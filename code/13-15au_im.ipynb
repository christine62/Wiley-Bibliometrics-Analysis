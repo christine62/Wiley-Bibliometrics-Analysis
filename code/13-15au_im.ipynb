{
 "cells": [
  {
   "cell_type": "markdown",
   "metadata": {},
   "source": [
    "Build authors dataset from 2013 to 2015, get the response variable"
   ]
  },
  {
   "cell_type": "code",
   "execution_count": 1,
   "metadata": {},
   "outputs": [],
   "source": [
    "import pandas as pd\n",
    "import numpy as np"
   ]
  },
  {
   "cell_type": "code",
   "execution_count": 1,
   "metadata": {},
   "outputs": [],
   "source": [
    "df = pd.read_csv(\"../data/wsdata1017withim.csv\")"
   ]
  },
  {
   "cell_type": "code",
   "execution_count": 2,
   "metadata": {
    "scrolled": true
   },
   "outputs": [
    {
     "data": {
      "text/html": [
       "<div>\n",
       "<style scoped>\n",
       "    .dataframe tbody tr th:only-of-type {\n",
       "        vertical-align: middle;\n",
       "    }\n",
       "\n",
       "    .dataframe tbody tr th {\n",
       "        vertical-align: top;\n",
       "    }\n",
       "\n",
       "    .dataframe thead th {\n",
       "        text-align: right;\n",
       "    }\n",
       "</style>\n",
       "<table border=\"1\" class=\"dataframe\">\n",
       "  <thead>\n",
       "    <tr style=\"text-align: right;\">\n",
       "      <th></th>\n",
       "      <th>Unnamed: 0</th>\n",
       "      <th>AF</th>\n",
       "      <th>TI</th>\n",
       "      <th>SO</th>\n",
       "      <th>DT</th>\n",
       "      <th>DE</th>\n",
       "      <th>ID</th>\n",
       "      <th>AB</th>\n",
       "      <th>FU</th>\n",
       "      <th>CR</th>\n",
       "      <th>PY</th>\n",
       "      <th>UT</th>\n",
       "      <th>IM</th>\n",
       "    </tr>\n",
       "  </thead>\n",
       "  <tbody>\n",
       "    <tr>\n",
       "      <th>0</th>\n",
       "      <td>1000</td>\n",
       "      <td>Dashnyam, Khandmaa; Jin, Guang-Zhen; Kim, Joon...</td>\n",
       "      <td>Promoting angiogenesis with mesoporous microca...</td>\n",
       "      <td>BIOMATERIALS</td>\n",
       "      <td>Article</td>\n",
       "      <td>Angiogenesis; Co-delivery; Silicon ion; VEGF; ...</td>\n",
       "      <td>ENDOTHELIAL GROWTH-FACTOR; CHICK CHORIOALLANTO...</td>\n",
       "      <td>Angiogenic capacity of biomaterials is a key a...</td>\n",
       "      <td>National Research Foundation (Global Research ...</td>\n",
       "      <td>Ananthakrishnan R, 2007, INT J BIOL SCI, V3, P...</td>\n",
       "      <td>2017.0</td>\n",
       "      <td>WOS:000392681100013</td>\n",
       "      <td>8.806</td>\n",
       "    </tr>\n",
       "    <tr>\n",
       "      <th>1</th>\n",
       "      <td>1001</td>\n",
       "      <td>Zhang, Peipei; Andorko, James I.; Jewell, Chri...</td>\n",
       "      <td>Impact of dose, route, and composition on the ...</td>\n",
       "      <td>BIOTECHNOLOGY AND BIOENGINEERING</td>\n",
       "      <td>Article</td>\n",
       "      <td>vaccine; adjuvant; polyelectrolyte multilayer;...</td>\n",
       "      <td>DENDRITIC CELLS; TLR AGONISTS; ADJUVANTS; RESP...</td>\n",
       "      <td>Biomaterial vaccines offer new capabilities th...</td>\n",
       "      <td>NSF CAREER Award [1351688]; Alliance for Cance...</td>\n",
       "      <td>Andorko JI, 2015, AAPS J, V17, P323, DOI 10.12...</td>\n",
       "      <td>2017.0</td>\n",
       "      <td>WOS:000392539800017</td>\n",
       "      <td>3.952</td>\n",
       "    </tr>\n",
       "    <tr>\n",
       "      <th>2</th>\n",
       "      <td>1002</td>\n",
       "      <td>Fujioka-Kobayashi, Masako; Schaller, Benoit; S...</td>\n",
       "      <td>Growth factor delivery of BMP9 using a novel n...</td>\n",
       "      <td>JOURNAL OF BIOMEDICAL MATERIALS RESEARCH PART A</td>\n",
       "      <td>Article</td>\n",
       "      <td>BMP; BMP2; BMP9; natural bone mineral; bone gr...</td>\n",
       "      <td>MORPHOGENETIC PROTEIN-2; DIFFERENTIATION; PROL...</td>\n",
       "      <td>Within the past years, BMP9 has been character...</td>\n",
       "      <td>NaN</td>\n",
       "      <td>Anderson DG, 2004, SCIENCE, V305, P1923, DOI 1...</td>\n",
       "      <td>2017.0</td>\n",
       "      <td>WOS:000392506300006</td>\n",
       "      <td>3.231</td>\n",
       "    </tr>\n",
       "    <tr>\n",
       "      <th>3</th>\n",
       "      <td>1003</td>\n",
       "      <td>Ferraz, Emanuela P.; Oliveira, Fabiola S.; de ...</td>\n",
       "      <td>Bioactive glass-based surfaces induce differen...</td>\n",
       "      <td>JOURNAL OF BIOMEDICAL MATERIALS RESEARCH PART A</td>\n",
       "      <td>Article</td>\n",
       "      <td>bioactive glass; biosilicate; bone; mRNA seque...</td>\n",
       "      <td>IN-VITRO; CERAMIC BIOSILICATE(R); IONIC PRODUC...</td>\n",
       "      <td>The ability of Biosilicate (R) with two crysta...</td>\n",
       "      <td>Sao Paulo Research Foundation, FAPESP, Brazil ...</td>\n",
       "      <td>Azenha Marcelo Rodrigues, 2010, Braz. Dent. J....</td>\n",
       "      <td>2017.0</td>\n",
       "      <td>WOS:000392506300007</td>\n",
       "      <td>3.231</td>\n",
       "    </tr>\n",
       "    <tr>\n",
       "      <th>4</th>\n",
       "      <td>1004</td>\n",
       "      <td>Barros, Joana; Grenho, Liliana; Fontenente, Si...</td>\n",
       "      <td>Staphylococcus aureus and Escherichia coli dua...</td>\n",
       "      <td>JOURNAL OF BIOMEDICAL MATERIALS RESEARCH PART A</td>\n",
       "      <td>Article</td>\n",
       "      <td>nanohydroxyapatite; chlorhexidine digluconate;...</td>\n",
       "      <td>BACTERIAL BIOFILMS; MULTISPECIES BIOFILMS; ORT...</td>\n",
       "      <td>Implant-associated infections are caused by su...</td>\n",
       "      <td>Programa Operacional Factores de Competitivida...</td>\n",
       "      <td>Applerot G, 2009, ADV FUNCT MATER, V19, P842, ...</td>\n",
       "      <td>2017.0</td>\n",
       "      <td>WOS:000392506300014</td>\n",
       "      <td>3.231</td>\n",
       "    </tr>\n",
       "  </tbody>\n",
       "</table>\n",
       "</div>"
      ],
      "text/plain": [
       "   Unnamed: 0                                                 AF  \\\n",
       "0        1000  Dashnyam, Khandmaa; Jin, Guang-Zhen; Kim, Joon...   \n",
       "1        1001  Zhang, Peipei; Andorko, James I.; Jewell, Chri...   \n",
       "2        1002  Fujioka-Kobayashi, Masako; Schaller, Benoit; S...   \n",
       "3        1003  Ferraz, Emanuela P.; Oliveira, Fabiola S.; de ...   \n",
       "4        1004  Barros, Joana; Grenho, Liliana; Fontenente, Si...   \n",
       "\n",
       "                                                  TI  \\\n",
       "0  Promoting angiogenesis with mesoporous microca...   \n",
       "1  Impact of dose, route, and composition on the ...   \n",
       "2  Growth factor delivery of BMP9 using a novel n...   \n",
       "3  Bioactive glass-based surfaces induce differen...   \n",
       "4  Staphylococcus aureus and Escherichia coli dua...   \n",
       "\n",
       "                                                SO       DT  \\\n",
       "0                                     BIOMATERIALS  Article   \n",
       "1                 BIOTECHNOLOGY AND BIOENGINEERING  Article   \n",
       "2  JOURNAL OF BIOMEDICAL MATERIALS RESEARCH PART A  Article   \n",
       "3  JOURNAL OF BIOMEDICAL MATERIALS RESEARCH PART A  Article   \n",
       "4  JOURNAL OF BIOMEDICAL MATERIALS RESEARCH PART A  Article   \n",
       "\n",
       "                                                  DE  \\\n",
       "0  Angiogenesis; Co-delivery; Silicon ion; VEGF; ...   \n",
       "1  vaccine; adjuvant; polyelectrolyte multilayer;...   \n",
       "2  BMP; BMP2; BMP9; natural bone mineral; bone gr...   \n",
       "3  bioactive glass; biosilicate; bone; mRNA seque...   \n",
       "4  nanohydroxyapatite; chlorhexidine digluconate;...   \n",
       "\n",
       "                                                  ID  \\\n",
       "0  ENDOTHELIAL GROWTH-FACTOR; CHICK CHORIOALLANTO...   \n",
       "1  DENDRITIC CELLS; TLR AGONISTS; ADJUVANTS; RESP...   \n",
       "2  MORPHOGENETIC PROTEIN-2; DIFFERENTIATION; PROL...   \n",
       "3  IN-VITRO; CERAMIC BIOSILICATE(R); IONIC PRODUC...   \n",
       "4  BACTERIAL BIOFILMS; MULTISPECIES BIOFILMS; ORT...   \n",
       "\n",
       "                                                  AB  \\\n",
       "0  Angiogenic capacity of biomaterials is a key a...   \n",
       "1  Biomaterial vaccines offer new capabilities th...   \n",
       "2  Within the past years, BMP9 has been character...   \n",
       "3  The ability of Biosilicate (R) with two crysta...   \n",
       "4  Implant-associated infections are caused by su...   \n",
       "\n",
       "                                                  FU  \\\n",
       "0  National Research Foundation (Global Research ...   \n",
       "1  NSF CAREER Award [1351688]; Alliance for Cance...   \n",
       "2                                                NaN   \n",
       "3  Sao Paulo Research Foundation, FAPESP, Brazil ...   \n",
       "4  Programa Operacional Factores de Competitivida...   \n",
       "\n",
       "                                                  CR      PY  \\\n",
       "0  Ananthakrishnan R, 2007, INT J BIOL SCI, V3, P...  2017.0   \n",
       "1  Andorko JI, 2015, AAPS J, V17, P323, DOI 10.12...  2017.0   \n",
       "2  Anderson DG, 2004, SCIENCE, V305, P1923, DOI 1...  2017.0   \n",
       "3  Azenha Marcelo Rodrigues, 2010, Braz. Dent. J....  2017.0   \n",
       "4  Applerot G, 2009, ADV FUNCT MATER, V19, P842, ...  2017.0   \n",
       "\n",
       "                    UT     IM  \n",
       "0  WOS:000392681100013  8.806  \n",
       "1  WOS:000392539800017  3.952  \n",
       "2  WOS:000392506300006  3.231  \n",
       "3  WOS:000392506300007  3.231  \n",
       "4  WOS:000392506300014  3.231  "
      ]
     },
     "execution_count": 2,
     "metadata": {},
     "output_type": "execute_result"
    }
   ],
   "source": [
    "df.head()"
   ]
  },
  {
   "cell_type": "markdown",
   "metadata": {},
   "source": [
    "**Add the funding label**"
   ]
  },
  {
   "cell_type": "code",
   "execution_count": 3,
   "metadata": {
    "scrolled": true
   },
   "outputs": [],
   "source": [
    "df['fund_label'] = df['FU'].fillna(0).apply(lambda x: 1 if x!=0 else 0)"
   ]
  },
  {
   "cell_type": "code",
   "execution_count": 126,
   "metadata": {},
   "outputs": [],
   "source": [
    "#df['if']=pd.to_numeric(df['if'])"
   ]
  },
  {
   "cell_type": "code",
   "execution_count": 4,
   "metadata": {},
   "outputs": [
    {
     "data": {
      "text/plain": [
       "<matplotlib.axes._subplots.AxesSubplot at 0x1a1c1c11d0>"
      ]
     },
     "execution_count": 4,
     "metadata": {},
     "output_type": "execute_result"
    },
    {
     "data": {
      "image/png": "[encoded data removed]",
      "text/plain": [
       "<Figure size 432x288 with 1 Axes>"
      ]
     },
     "metadata": {},
     "output_type": "display_data"
    }
   ],
   "source": [
    "df['IM'].hist(bins=50)"
   ]
  },
  {
   "cell_type": "markdown",
   "metadata": {},
   "source": [
    "# Calculate 13-15 authors' impact factor"
   ]
  },
  {
   "cell_type": "code",
   "execution_count": 30,
   "metadata": {},
   "outputs": [],
   "source": [
    "df1315 = df[(df['PY']>=2013)&(df['PY']<=2015)]"
   ]
  },
  {
   "cell_type": "code",
   "execution_count": 31,
   "metadata": {},
   "outputs": [],
   "source": [
    "dfa = df1315.AF.str.split(';', expand=True).\\\n",
    "                   join(df1315.fund_label).join(df1315.PY).join(df1315['IM'])\n",
    "dfa.fillna(value=np.nan, inplace=True)"
   ]
  },
  {
   "cell_type": "code",
   "execution_count": 32,
   "metadata": {},
   "outputs": [],
   "source": [
    "def df_new(df):\n",
    "    temp=[]\n",
    "    temp_n=[]\n",
    "    for row in df.iterrows():\n",
    "        index, data = row\n",
    "        temp.append(data.tolist())\n",
    "    for i in range(len(temp)):\n",
    "        for j in range(len(temp[i])-3):\n",
    "            temp_n.append([temp[i][j],temp[i][-3],temp[i][-2],temp[i][-1]])\n",
    "    df_n = pd.DataFrame(temp_n, columns=['author','fund','PY','IM']).dropna()\n",
    "    return df_n"
   ]
  },
  {
   "cell_type": "code",
   "execution_count": 33,
   "metadata": {},
   "outputs": [],
   "source": [
    "df1315_authors=df_new(dfa)"
   ]
  },
  {
   "cell_type": "code",
   "execution_count": 34,
   "metadata": {},
   "outputs": [
    {
     "data": {
      "text/html": [
       "<div>\n",
       "<style scoped>\n",
       "    .dataframe tbody tr th:only-of-type {\n",
       "        vertical-align: middle;\n",
       "    }\n",
       "\n",
       "    .dataframe tbody tr th {\n",
       "        vertical-align: top;\n",
       "    }\n",
       "\n",
       "    .dataframe thead th {\n",
       "        text-align: right;\n",
       "    }\n",
       "</style>\n",
       "<table border=\"1\" class=\"dataframe\">\n",
       "  <thead>\n",
       "    <tr style=\"text-align: right;\">\n",
       "      <th></th>\n",
       "      <th>author</th>\n",
       "      <th>fund</th>\n",
       "      <th>PY</th>\n",
       "      <th>IM</th>\n",
       "    </tr>\n",
       "  </thead>\n",
       "  <tbody>\n",
       "    <tr>\n",
       "      <th>0</th>\n",
       "      <td>Lewallen, Eric Alexander</td>\n",
       "      <td>1</td>\n",
       "      <td>2015.0</td>\n",
       "      <td>0.0</td>\n",
       "    </tr>\n",
       "    <tr>\n",
       "      <th>1</th>\n",
       "      <td>Riester, Scott M.</td>\n",
       "      <td>1</td>\n",
       "      <td>2015.0</td>\n",
       "      <td>0.0</td>\n",
       "    </tr>\n",
       "    <tr>\n",
       "      <th>2</th>\n",
       "      <td>Bonin, Carolina A.</td>\n",
       "      <td>1</td>\n",
       "      <td>2015.0</td>\n",
       "      <td>0.0</td>\n",
       "    </tr>\n",
       "    <tr>\n",
       "      <th>3</th>\n",
       "      <td>Kremers, Hilal Maradit</td>\n",
       "      <td>1</td>\n",
       "      <td>2015.0</td>\n",
       "      <td>0.0</td>\n",
       "    </tr>\n",
       "    <tr>\n",
       "      <th>4</th>\n",
       "      <td>Dudakovic, Amel</td>\n",
       "      <td>1</td>\n",
       "      <td>2015.0</td>\n",
       "      <td>0.0</td>\n",
       "    </tr>\n",
       "  </tbody>\n",
       "</table>\n",
       "</div>"
      ],
      "text/plain": [
       "                     author  fund      PY   IM\n",
       "0  Lewallen, Eric Alexander     1  2015.0  0.0\n",
       "1         Riester, Scott M.     1  2015.0  0.0\n",
       "2        Bonin, Carolina A.     1  2015.0  0.0\n",
       "3    Kremers, Hilal Maradit     1  2015.0  0.0\n",
       "4           Dudakovic, Amel     1  2015.0  0.0"
      ]
     },
     "execution_count": 34,
     "metadata": {},
     "output_type": "execute_result"
    }
   ],
   "source": [
    "df1315_authors.head()"
   ]
  },
  {
   "cell_type": "code",
   "execution_count": 35,
   "metadata": {},
   "outputs": [],
   "source": [
    "df1315_authors['author'] = df1315_authors['author'].str.lstrip()"
   ]
  },
  {
   "cell_type": "code",
   "execution_count": 36,
   "metadata": {},
   "outputs": [],
   "source": [
    "dfa_if = pd.pivot_table(df1315_authors, index=['author', 'PY'], values='IM', aggfunc=np.sum)\n",
    "dfa_if_unstacked = dfa_if.unstack()"
   ]
  },
  {
   "cell_type": "code",
   "execution_count": 38,
   "metadata": {},
   "outputs": [],
   "source": [
    "dfa_if_unstacked['sum']=dfa_if_unstacked.sum(axis=1)"
   ]
  },
  {
   "cell_type": "code",
   "execution_count": 39,
   "metadata": {},
   "outputs": [],
   "source": [
    "dfa_if_unstacked.columns = dfa_if_unstacked.columns.droplevel(0)"
   ]
  },
  {
   "cell_type": "code",
   "execution_count": 40,
   "metadata": {},
   "outputs": [],
   "source": [
    "dfa_if_unstacked=dfa_if_unstacked.reset_index()"
   ]
  },
  {
   "cell_type": "code",
   "execution_count": 41,
   "metadata": {},
   "outputs": [],
   "source": [
    "dfa_if_unstacked.columns=['author','2013if','2014if','2015if','sum']"
   ]
  },
  {
   "cell_type": "code",
   "execution_count": 42,
   "metadata": {},
   "outputs": [
    {
     "data": {
      "text/html": [
       "<div>\n",
       "<style scoped>\n",
       "    .dataframe tbody tr th:only-of-type {\n",
       "        vertical-align: middle;\n",
       "    }\n",
       "\n",
       "    .dataframe tbody tr th {\n",
       "        vertical-align: top;\n",
       "    }\n",
       "\n",
       "    .dataframe thead th {\n",
       "        text-align: right;\n",
       "    }\n",
       "</style>\n",
       "<table border=\"1\" class=\"dataframe\">\n",
       "  <thead>\n",
       "    <tr style=\"text-align: right;\">\n",
       "      <th></th>\n",
       "      <th>author</th>\n",
       "      <th>2013if</th>\n",
       "      <th>2014if</th>\n",
       "      <th>2015if</th>\n",
       "      <th>sum</th>\n",
       "    </tr>\n",
       "  </thead>\n",
       "  <tbody>\n",
       "    <tr>\n",
       "      <th>0</th>\n",
       "      <td>'t Hart, M. C.</td>\n",
       "      <td>NaN</td>\n",
       "      <td>NaN</td>\n",
       "      <td>4.560</td>\n",
       "      <td>4.560</td>\n",
       "    </tr>\n",
       "    <tr>\n",
       "      <th>1</th>\n",
       "      <td>Aachmann, Finn L.</td>\n",
       "      <td>NaN</td>\n",
       "      <td>NaN</td>\n",
       "      <td>5.583</td>\n",
       "      <td>5.583</td>\n",
       "    </tr>\n",
       "    <tr>\n",
       "      <th>2</th>\n",
       "      <td>Aachmann, Finn Lillelund</td>\n",
       "      <td>NaN</td>\n",
       "      <td>5.75</td>\n",
       "      <td>3.263</td>\n",
       "      <td>9.013</td>\n",
       "    </tr>\n",
       "    <tr>\n",
       "      <th>3</th>\n",
       "      <td>Aalten, Pauline</td>\n",
       "      <td>NaN</td>\n",
       "      <td>2.04</td>\n",
       "      <td>NaN</td>\n",
       "      <td>2.040</td>\n",
       "    </tr>\n",
       "    <tr>\n",
       "      <th>4</th>\n",
       "      <td>Aalto-Setala, Katriina</td>\n",
       "      <td>0.0</td>\n",
       "      <td>NaN</td>\n",
       "      <td>NaN</td>\n",
       "      <td>0.000</td>\n",
       "    </tr>\n",
       "  </tbody>\n",
       "</table>\n",
       "</div>"
      ],
      "text/plain": [
       "                     author  2013if  2014if  2015if    sum\n",
       "0            't Hart, M. C.     NaN     NaN   4.560  4.560\n",
       "1         Aachmann, Finn L.     NaN     NaN   5.583  5.583\n",
       "2  Aachmann, Finn Lillelund     NaN    5.75   3.263  9.013\n",
       "3           Aalten, Pauline     NaN    2.04     NaN  2.040\n",
       "4    Aalto-Setala, Katriina     0.0     NaN     NaN  0.000"
      ]
     },
     "execution_count": 42,
     "metadata": {},
     "output_type": "execute_result"
    }
   ],
   "source": [
    "dfa_if_unstacked.head()"
   ]
  },
  {
   "cell_type": "code",
   "execution_count": 45,
   "metadata": {},
   "outputs": [],
   "source": [
    "dfa_if_unstacked.to_csv('../data/13-15au_if.csv',index=False)"
   ]
  },
  {
   "cell_type": "code",
   "execution_count": null,
   "metadata": {},
   "outputs": [],
   "source": []
  }
 ],
 "metadata": {
  "kernelspec": {
   "display_name": "Python 3",
   "language": "python",
   "name": "python3"
  },
  "language_info": {
   "codemirror_mode": {
    "name": "ipython",
    "version": 3
   },
   "file_extension": ".py",
   "mimetype": "text/x-python",
   "name": "python",
   "nbconvert_exporter": "python",
   "pygments_lexer": "ipython3",
   "version": "3.6.4"
  },
  "toc": {
   "nav_menu": {},
   "number_sections": false,
   "sideBar": true,
   "skip_h1_title": false,
   "title_cell": "Table of Contents",
   "title_sidebar": "Contents",
   "toc_cell": false,
   "toc_position": {},
   "toc_section_display": true,
   "toc_window_display": false
  }
 },
 "nbformat": 4,
 "nbformat_minor": 2
}
