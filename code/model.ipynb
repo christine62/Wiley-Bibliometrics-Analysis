{
 "cells": [
  {
   "cell_type": "code",
   "execution_count": 54,
   "metadata": {},
   "outputs": [],
   "source": [
    "import pandas as pd\n",
    "import numpy as np\n",
    "import seaborn as sns\n",
    "import matplotlib.pyplot as plt\n",
    "import datetime\n",
    "import matplotlib\n",
    "from collections import Counter\n",
    "from sklearn import ensemble\n",
    "from sklearn import linear_model\n",
    "from sklearn.grid_search import GridSearchCV\n",
    "from sklearn import preprocessing\n",
    "\n",
    "import sklearn.metrics as metrics\n",
    "import math\n",
    "\n",
    "\n",
    "from sklearn.linear_model import ElasticNet, Lasso,  BayesianRidge, LassoLarsIC\n",
    "from sklearn.ensemble import RandomForestRegressor,  GradientBoostingRegressor\n",
    "from sklearn.kernel_ridge import KernelRidge\n",
    "from sklearn.pipeline import make_pipeline\n",
    "from sklearn.preprocessing import RobustScaler\n",
    "from sklearn.base import BaseEstimator, TransformerMixin, RegressorMixin, clone\n",
    "from sklearn.model_selection import KFold, cross_val_score, train_test_split\n",
    "from sklearn.metrics import mean_squared_error, make_scorer\n",
    "import xgboost as xgb\n",
    "from sklearn.linear_model import LinearRegression, RidgeCV, LassoCV, ElasticNetCV\n",
    "from sklearn.datasets import make_regression\n"
   ]
  },
  {
   "cell_type": "code",
   "execution_count": 4,
   "metadata": {},
   "outputs": [],
   "source": [
    "df1=pd.read_csv('../data/1012au_pb_fd_im.csv')"
   ]
  },
  {
   "cell_type": "code",
   "execution_count": 5,
   "metadata": {},
   "outputs": [],
   "source": [
    "df2=pd.read_csv('../data/13-15au_if.csv')"
   ]
  },
  {
   "cell_type": "code",
   "execution_count": 6,
   "metadata": {},
   "outputs": [
    {
     "data": {
      "text/html": [
       "<div>\n",
       "<style scoped>\n",
       "    .dataframe tbody tr th:only-of-type {\n",
       "        vertical-align: middle;\n",
       "    }\n",
       "\n",
       "    .dataframe tbody tr th {\n",
       "        vertical-align: top;\n",
       "    }\n",
       "\n",
       "    .dataframe thead th {\n",
       "        text-align: right;\n",
       "    }\n",
       "</style>\n",
       "<table border=\"1\" class=\"dataframe\">\n",
       "  <thead>\n",
       "    <tr style=\"text-align: right;\">\n",
       "      <th></th>\n",
       "      <th>author</th>\n",
       "      <th>2010pb</th>\n",
       "      <th>2011pb</th>\n",
       "      <th>2012pb</th>\n",
       "      <th>2010fund</th>\n",
       "      <th>2011fund</th>\n",
       "      <th>2012fund</th>\n",
       "      <th>2010im</th>\n",
       "      <th>2011im</th>\n",
       "      <th>2012im</th>\n",
       "      <th>2010pbf</th>\n",
       "      <th>2011pbf</th>\n",
       "      <th>2012pbf</th>\n",
       "      <th>2010fundf</th>\n",
       "      <th>2011fundf</th>\n",
       "      <th>2012fundf</th>\n",
       "      <th>2010imf</th>\n",
       "      <th>2011imf</th>\n",
       "      <th>2012imf</th>\n",
       "    </tr>\n",
       "  </thead>\n",
       "  <tbody>\n",
       "    <tr>\n",
       "      <th>0</th>\n",
       "      <td>Aamer, Khaled</td>\n",
       "      <td>1.0</td>\n",
       "      <td>0.0</td>\n",
       "      <td>0.0</td>\n",
       "      <td>0.0</td>\n",
       "      <td>0.0</td>\n",
       "      <td>0.0</td>\n",
       "      <td>7.883</td>\n",
       "      <td>0.00</td>\n",
       "      <td>0.000</td>\n",
       "      <td>0.0</td>\n",
       "      <td>0.0</td>\n",
       "      <td>0.0</td>\n",
       "      <td>0.0</td>\n",
       "      <td>0.0</td>\n",
       "      <td>0.0</td>\n",
       "      <td>0.0</td>\n",
       "      <td>0.00</td>\n",
       "      <td>0.000</td>\n",
       "    </tr>\n",
       "    <tr>\n",
       "      <th>1</th>\n",
       "      <td>Aanestad, Jon</td>\n",
       "      <td>1.0</td>\n",
       "      <td>0.0</td>\n",
       "      <td>0.0</td>\n",
       "      <td>1.0</td>\n",
       "      <td>0.0</td>\n",
       "      <td>0.0</td>\n",
       "      <td>0.000</td>\n",
       "      <td>0.00</td>\n",
       "      <td>0.000</td>\n",
       "      <td>0.0</td>\n",
       "      <td>0.0</td>\n",
       "      <td>0.0</td>\n",
       "      <td>0.0</td>\n",
       "      <td>0.0</td>\n",
       "      <td>0.0</td>\n",
       "      <td>0.0</td>\n",
       "      <td>0.00</td>\n",
       "      <td>0.000</td>\n",
       "    </tr>\n",
       "    <tr>\n",
       "      <th>2</th>\n",
       "      <td>Aaritalo, Virpi</td>\n",
       "      <td>0.0</td>\n",
       "      <td>1.0</td>\n",
       "      <td>0.0</td>\n",
       "      <td>0.0</td>\n",
       "      <td>1.0</td>\n",
       "      <td>0.0</td>\n",
       "      <td>0.000</td>\n",
       "      <td>1.89</td>\n",
       "      <td>0.000</td>\n",
       "      <td>0.0</td>\n",
       "      <td>1.0</td>\n",
       "      <td>0.0</td>\n",
       "      <td>0.0</td>\n",
       "      <td>1.0</td>\n",
       "      <td>0.0</td>\n",
       "      <td>0.0</td>\n",
       "      <td>1.89</td>\n",
       "      <td>0.000</td>\n",
       "    </tr>\n",
       "    <tr>\n",
       "      <th>3</th>\n",
       "      <td>Aarne, Niko</td>\n",
       "      <td>0.0</td>\n",
       "      <td>0.0</td>\n",
       "      <td>1.0</td>\n",
       "      <td>0.0</td>\n",
       "      <td>0.0</td>\n",
       "      <td>1.0</td>\n",
       "      <td>0.000</td>\n",
       "      <td>0.00</td>\n",
       "      <td>3.909</td>\n",
       "      <td>0.0</td>\n",
       "      <td>0.0</td>\n",
       "      <td>1.0</td>\n",
       "      <td>0.0</td>\n",
       "      <td>0.0</td>\n",
       "      <td>1.0</td>\n",
       "      <td>0.0</td>\n",
       "      <td>0.00</td>\n",
       "      <td>3.909</td>\n",
       "    </tr>\n",
       "    <tr>\n",
       "      <th>4</th>\n",
       "      <td>Aass, Anne Merete</td>\n",
       "      <td>0.0</td>\n",
       "      <td>0.0</td>\n",
       "      <td>1.0</td>\n",
       "      <td>0.0</td>\n",
       "      <td>0.0</td>\n",
       "      <td>0.0</td>\n",
       "      <td>0.000</td>\n",
       "      <td>0.00</td>\n",
       "      <td>2.398</td>\n",
       "      <td>0.0</td>\n",
       "      <td>0.0</td>\n",
       "      <td>0.0</td>\n",
       "      <td>0.0</td>\n",
       "      <td>0.0</td>\n",
       "      <td>0.0</td>\n",
       "      <td>0.0</td>\n",
       "      <td>0.00</td>\n",
       "      <td>0.000</td>\n",
       "    </tr>\n",
       "  </tbody>\n",
       "</table>\n",
       "</div>"
      ],
      "text/plain": [
       "              author  2010pb  2011pb  2012pb  2010fund  2011fund  2012fund  \\\n",
       "0      Aamer, Khaled     1.0     0.0     0.0       0.0       0.0       0.0   \n",
       "1      Aanestad, Jon     1.0     0.0     0.0       1.0       0.0       0.0   \n",
       "2    Aaritalo, Virpi     0.0     1.0     0.0       0.0       1.0       0.0   \n",
       "3        Aarne, Niko     0.0     0.0     1.0       0.0       0.0       1.0   \n",
       "4  Aass, Anne Merete     0.0     0.0     1.0       0.0       0.0       0.0   \n",
       "\n",
       "   2010im  2011im  2012im  2010pbf  2011pbf  2012pbf  2010fundf  2011fundf  \\\n",
       "0   7.883    0.00   0.000      0.0      0.0      0.0        0.0        0.0   \n",
       "1   0.000    0.00   0.000      0.0      0.0      0.0        0.0        0.0   \n",
       "2   0.000    1.89   0.000      0.0      1.0      0.0        0.0        1.0   \n",
       "3   0.000    0.00   3.909      0.0      0.0      1.0        0.0        0.0   \n",
       "4   0.000    0.00   2.398      0.0      0.0      0.0        0.0        0.0   \n",
       "\n",
       "   2012fundf  2010imf  2011imf  2012imf  \n",
       "0        0.0      0.0     0.00    0.000  \n",
       "1        0.0      0.0     0.00    0.000  \n",
       "2        0.0      0.0     1.89    0.000  \n",
       "3        1.0      0.0     0.00    3.909  \n",
       "4        0.0      0.0     0.00    0.000  "
      ]
     },
     "execution_count": 6,
     "metadata": {},
     "output_type": "execute_result"
    }
   ],
   "source": [
    "df1.head()"
   ]
  },
  {
   "cell_type": "code",
   "execution_count": 7,
   "metadata": {},
   "outputs": [
    {
     "data": {
      "text/plain": [
       "(28216, 19)"
      ]
     },
     "execution_count": 7,
     "metadata": {},
     "output_type": "execute_result"
    }
   ],
   "source": [
    "df1.shape"
   ]
  },
  {
   "cell_type": "code",
   "execution_count": 8,
   "metadata": {},
   "outputs": [
    {
     "data": {
      "text/html": [
       "<div>\n",
       "<style scoped>\n",
       "    .dataframe tbody tr th:only-of-type {\n",
       "        vertical-align: middle;\n",
       "    }\n",
       "\n",
       "    .dataframe tbody tr th {\n",
       "        vertical-align: top;\n",
       "    }\n",
       "\n",
       "    .dataframe thead th {\n",
       "        text-align: right;\n",
       "    }\n",
       "</style>\n",
       "<table border=\"1\" class=\"dataframe\">\n",
       "  <thead>\n",
       "    <tr style=\"text-align: right;\">\n",
       "      <th></th>\n",
       "      <th>author</th>\n",
       "      <th>2013if</th>\n",
       "      <th>2014if</th>\n",
       "      <th>2015if</th>\n",
       "      <th>sum</th>\n",
       "    </tr>\n",
       "  </thead>\n",
       "  <tbody>\n",
       "    <tr>\n",
       "      <th>0</th>\n",
       "      <td>'t Hart, M. C.</td>\n",
       "      <td>NaN</td>\n",
       "      <td>NaN</td>\n",
       "      <td>4.560</td>\n",
       "      <td>4.560</td>\n",
       "    </tr>\n",
       "    <tr>\n",
       "      <th>1</th>\n",
       "      <td>Aachmann, Finn L.</td>\n",
       "      <td>NaN</td>\n",
       "      <td>NaN</td>\n",
       "      <td>5.583</td>\n",
       "      <td>5.583</td>\n",
       "    </tr>\n",
       "    <tr>\n",
       "      <th>2</th>\n",
       "      <td>Aachmann, Finn Lillelund</td>\n",
       "      <td>NaN</td>\n",
       "      <td>5.75</td>\n",
       "      <td>3.263</td>\n",
       "      <td>9.013</td>\n",
       "    </tr>\n",
       "    <tr>\n",
       "      <th>3</th>\n",
       "      <td>Aalten, Pauline</td>\n",
       "      <td>NaN</td>\n",
       "      <td>2.04</td>\n",
       "      <td>NaN</td>\n",
       "      <td>2.040</td>\n",
       "    </tr>\n",
       "    <tr>\n",
       "      <th>4</th>\n",
       "      <td>Aalto-Setala, Katriina</td>\n",
       "      <td>0.0</td>\n",
       "      <td>NaN</td>\n",
       "      <td>NaN</td>\n",
       "      <td>0.000</td>\n",
       "    </tr>\n",
       "  </tbody>\n",
       "</table>\n",
       "</div>"
      ],
      "text/plain": [
       "                     author  2013if  2014if  2015if    sum\n",
       "0            't Hart, M. C.     NaN     NaN   4.560  4.560\n",
       "1         Aachmann, Finn L.     NaN     NaN   5.583  5.583\n",
       "2  Aachmann, Finn Lillelund     NaN    5.75   3.263  9.013\n",
       "3           Aalten, Pauline     NaN    2.04     NaN  2.040\n",
       "4    Aalto-Setala, Katriina     0.0     NaN     NaN  0.000"
      ]
     },
     "execution_count": 8,
     "metadata": {},
     "output_type": "execute_result"
    }
   ],
   "source": [
    "df2.head()"
   ]
  },
  {
   "cell_type": "code",
   "execution_count": 9,
   "metadata": {},
   "outputs": [
    {
     "data": {
      "text/plain": [
       "(39960, 5)"
      ]
     },
     "execution_count": 9,
     "metadata": {},
     "output_type": "execute_result"
    }
   ],
   "source": [
    "df2.shape"
   ]
  },
  {
   "cell_type": "code",
   "execution_count": 10,
   "metadata": {},
   "outputs": [],
   "source": [
    "df2 = df2[['author','sum']]"
   ]
  },
  {
   "cell_type": "code",
   "execution_count": 11,
   "metadata": {},
   "outputs": [],
   "source": [
    "df2.columns=['author','target']"
   ]
  },
  {
   "cell_type": "code",
   "execution_count": 12,
   "metadata": {},
   "outputs": [],
   "source": [
    "df3 = pd.read_csv('../data/1012nodes.csv')"
   ]
  },
  {
   "cell_type": "code",
   "execution_count": 13,
   "metadata": {},
   "outputs": [
    {
     "data": {
      "text/html": [
       "<div>\n",
       "<style scoped>\n",
       "    .dataframe tbody tr th:only-of-type {\n",
       "        vertical-align: middle;\n",
       "    }\n",
       "\n",
       "    .dataframe tbody tr th {\n",
       "        vertical-align: top;\n",
       "    }\n",
       "\n",
       "    .dataframe thead th {\n",
       "        text-align: right;\n",
       "    }\n",
       "</style>\n",
       "<table border=\"1\" class=\"dataframe\">\n",
       "  <thead>\n",
       "    <tr style=\"text-align: right;\">\n",
       "      <th></th>\n",
       "      <th>author</th>\n",
       "      <th>degree</th>\n",
       "      <th>indegree</th>\n",
       "      <th>outdegree</th>\n",
       "      <th>between</th>\n",
       "      <th>close</th>\n",
       "      <th>eigen</th>\n",
       "    </tr>\n",
       "  </thead>\n",
       "  <tbody>\n",
       "    <tr>\n",
       "      <th>0</th>\n",
       "      <td>Costa, Eunice</td>\n",
       "      <td>0.000177</td>\n",
       "      <td>0.000000</td>\n",
       "      <td>0.000177</td>\n",
       "      <td>0.0</td>\n",
       "      <td>0.000000</td>\n",
       "      <td>2.245117e-15</td>\n",
       "    </tr>\n",
       "    <tr>\n",
       "      <th>1</th>\n",
       "      <td>de-Carvalho, Jorge</td>\n",
       "      <td>0.000035</td>\n",
       "      <td>0.000035</td>\n",
       "      <td>0.000000</td>\n",
       "      <td>0.0</td>\n",
       "      <td>0.000035</td>\n",
       "      <td>4.490235e-14</td>\n",
       "    </tr>\n",
       "    <tr>\n",
       "      <th>2</th>\n",
       "      <td>Casimiro, Teresa</td>\n",
       "      <td>0.000071</td>\n",
       "      <td>0.000071</td>\n",
       "      <td>0.000000</td>\n",
       "      <td>0.0</td>\n",
       "      <td>0.000071</td>\n",
       "      <td>8.755958e-14</td>\n",
       "    </tr>\n",
       "    <tr>\n",
       "      <th>3</th>\n",
       "      <td>da Silva, Claudia Lobato</td>\n",
       "      <td>0.000035</td>\n",
       "      <td>0.000035</td>\n",
       "      <td>0.000000</td>\n",
       "      <td>0.0</td>\n",
       "      <td>0.000035</td>\n",
       "      <td>4.490235e-14</td>\n",
       "    </tr>\n",
       "    <tr>\n",
       "      <th>4</th>\n",
       "      <td>Cidade, Maria Teresa</td>\n",
       "      <td>0.000035</td>\n",
       "      <td>0.000035</td>\n",
       "      <td>0.000000</td>\n",
       "      <td>0.0</td>\n",
       "      <td>0.000035</td>\n",
       "      <td>4.490235e-14</td>\n",
       "    </tr>\n",
       "    <tr>\n",
       "      <th>5</th>\n",
       "      <td>Aguiar-Ricardo, Ana</td>\n",
       "      <td>0.000071</td>\n",
       "      <td>0.000071</td>\n",
       "      <td>0.000000</td>\n",
       "      <td>0.0</td>\n",
       "      <td>0.000071</td>\n",
       "      <td>8.755958e-14</td>\n",
       "    </tr>\n",
       "    <tr>\n",
       "      <th>6</th>\n",
       "      <td>Carson, William C.</td>\n",
       "      <td>0.000177</td>\n",
       "      <td>0.000000</td>\n",
       "      <td>0.000177</td>\n",
       "      <td>0.0</td>\n",
       "      <td>0.000000</td>\n",
       "      <td>2.245117e-15</td>\n",
       "    </tr>\n",
       "    <tr>\n",
       "      <th>7</th>\n",
       "      <td>Gerling, Gregory J.</td>\n",
       "      <td>0.000035</td>\n",
       "      <td>0.000035</td>\n",
       "      <td>0.000000</td>\n",
       "      <td>0.0</td>\n",
       "      <td>0.000035</td>\n",
       "      <td>4.490235e-14</td>\n",
       "    </tr>\n",
       "    <tr>\n",
       "      <th>8</th>\n",
       "      <td>Krupski, Tracey L.</td>\n",
       "      <td>0.000035</td>\n",
       "      <td>0.000035</td>\n",
       "      <td>0.000000</td>\n",
       "      <td>0.0</td>\n",
       "      <td>0.000035</td>\n",
       "      <td>4.490235e-14</td>\n",
       "    </tr>\n",
       "    <tr>\n",
       "      <th>9</th>\n",
       "      <td>Kowalik, Casey G.</td>\n",
       "      <td>0.000035</td>\n",
       "      <td>0.000035</td>\n",
       "      <td>0.000000</td>\n",
       "      <td>0.0</td>\n",
       "      <td>0.000035</td>\n",
       "      <td>4.490235e-14</td>\n",
       "    </tr>\n",
       "  </tbody>\n",
       "</table>\n",
       "</div>"
      ],
      "text/plain": [
       "                     author    degree  indegree  outdegree  between     close  \\\n",
       "0             Costa, Eunice  0.000177  0.000000   0.000177      0.0  0.000000   \n",
       "1        de-Carvalho, Jorge  0.000035  0.000035   0.000000      0.0  0.000035   \n",
       "2          Casimiro, Teresa  0.000071  0.000071   0.000000      0.0  0.000071   \n",
       "3  da Silva, Claudia Lobato  0.000035  0.000035   0.000000      0.0  0.000035   \n",
       "4      Cidade, Maria Teresa  0.000035  0.000035   0.000000      0.0  0.000035   \n",
       "5       Aguiar-Ricardo, Ana  0.000071  0.000071   0.000000      0.0  0.000071   \n",
       "6        Carson, William C.  0.000177  0.000000   0.000177      0.0  0.000000   \n",
       "7       Gerling, Gregory J.  0.000035  0.000035   0.000000      0.0  0.000035   \n",
       "8        Krupski, Tracey L.  0.000035  0.000035   0.000000      0.0  0.000035   \n",
       "9         Kowalik, Casey G.  0.000035  0.000035   0.000000      0.0  0.000035   \n",
       "\n",
       "          eigen  \n",
       "0  2.245117e-15  \n",
       "1  4.490235e-14  \n",
       "2  8.755958e-14  \n",
       "3  4.490235e-14  \n",
       "4  4.490235e-14  \n",
       "5  8.755958e-14  \n",
       "6  2.245117e-15  \n",
       "7  4.490235e-14  \n",
       "8  4.490235e-14  \n",
       "9  4.490235e-14  "
      ]
     },
     "execution_count": 13,
     "metadata": {},
     "output_type": "execute_result"
    }
   ],
   "source": [
    "df3.head(10)"
   ]
  },
  {
   "cell_type": "code",
   "execution_count": 14,
   "metadata": {},
   "outputs": [
    {
     "data": {
      "text/plain": [
       "(28216, 7)"
      ]
     },
     "execution_count": 14,
     "metadata": {},
     "output_type": "execute_result"
    }
   ],
   "source": [
    "df3.shape"
   ]
  },
  {
   "cell_type": "code",
   "execution_count": 15,
   "metadata": {},
   "outputs": [],
   "source": [
    "dfm = pd.merge(df1, df2, on='author')"
   ]
  },
  {
   "cell_type": "code",
   "execution_count": 16,
   "metadata": {},
   "outputs": [
    {
     "data": {
      "text/plain": [
       "(7053, 20)"
      ]
     },
     "execution_count": 16,
     "metadata": {},
     "output_type": "execute_result"
    }
   ],
   "source": [
    "dfm.shape"
   ]
  },
  {
   "cell_type": "code",
   "execution_count": 17,
   "metadata": {},
   "outputs": [
    {
     "data": {
      "text/html": [
       "<div>\n",
       "<style scoped>\n",
       "    .dataframe tbody tr th:only-of-type {\n",
       "        vertical-align: middle;\n",
       "    }\n",
       "\n",
       "    .dataframe tbody tr th {\n",
       "        vertical-align: top;\n",
       "    }\n",
       "\n",
       "    .dataframe thead th {\n",
       "        text-align: right;\n",
       "    }\n",
       "</style>\n",
       "<table border=\"1\" class=\"dataframe\">\n",
       "  <thead>\n",
       "    <tr style=\"text-align: right;\">\n",
       "      <th></th>\n",
       "      <th>author</th>\n",
       "      <th>2010pb</th>\n",
       "      <th>2011pb</th>\n",
       "      <th>2012pb</th>\n",
       "      <th>2010fund</th>\n",
       "      <th>2011fund</th>\n",
       "      <th>2012fund</th>\n",
       "      <th>2010im</th>\n",
       "      <th>2011im</th>\n",
       "      <th>2012im</th>\n",
       "      <th>2010pbf</th>\n",
       "      <th>2011pbf</th>\n",
       "      <th>2012pbf</th>\n",
       "      <th>2010fundf</th>\n",
       "      <th>2011fundf</th>\n",
       "      <th>2012fundf</th>\n",
       "      <th>2010imf</th>\n",
       "      <th>2011imf</th>\n",
       "      <th>2012imf</th>\n",
       "      <th>target</th>\n",
       "    </tr>\n",
       "  </thead>\n",
       "  <tbody>\n",
       "    <tr>\n",
       "      <th>0</th>\n",
       "      <td>Abatangelo, Giovanni</td>\n",
       "      <td>1.0</td>\n",
       "      <td>0.0</td>\n",
       "      <td>0.0</td>\n",
       "      <td>0.0</td>\n",
       "      <td>0.0</td>\n",
       "      <td>0.0</td>\n",
       "      <td>6.202</td>\n",
       "      <td>0.000</td>\n",
       "      <td>0.000</td>\n",
       "      <td>0.0</td>\n",
       "      <td>0.0</td>\n",
       "      <td>0.0</td>\n",
       "      <td>0.0</td>\n",
       "      <td>0.0</td>\n",
       "      <td>0.0</td>\n",
       "      <td>0.0</td>\n",
       "      <td>0.0</td>\n",
       "      <td>0.000</td>\n",
       "      <td>1.458</td>\n",
       "    </tr>\n",
       "    <tr>\n",
       "      <th>1</th>\n",
       "      <td>Abbasi, Azhar Z.</td>\n",
       "      <td>0.0</td>\n",
       "      <td>1.0</td>\n",
       "      <td>0.0</td>\n",
       "      <td>0.0</td>\n",
       "      <td>1.0</td>\n",
       "      <td>0.0</td>\n",
       "      <td>0.000</td>\n",
       "      <td>4.596</td>\n",
       "      <td>0.000</td>\n",
       "      <td>0.0</td>\n",
       "      <td>0.0</td>\n",
       "      <td>0.0</td>\n",
       "      <td>0.0</td>\n",
       "      <td>0.0</td>\n",
       "      <td>0.0</td>\n",
       "      <td>0.0</td>\n",
       "      <td>0.0</td>\n",
       "      <td>0.000</td>\n",
       "      <td>8.387</td>\n",
       "    </tr>\n",
       "    <tr>\n",
       "      <th>2</th>\n",
       "      <td>Abdal-hay, Abdalla</td>\n",
       "      <td>0.0</td>\n",
       "      <td>0.0</td>\n",
       "      <td>2.0</td>\n",
       "      <td>0.0</td>\n",
       "      <td>0.0</td>\n",
       "      <td>2.0</td>\n",
       "      <td>0.000</td>\n",
       "      <td>0.000</td>\n",
       "      <td>3.772</td>\n",
       "      <td>0.0</td>\n",
       "      <td>0.0</td>\n",
       "      <td>2.0</td>\n",
       "      <td>0.0</td>\n",
       "      <td>0.0</td>\n",
       "      <td>2.0</td>\n",
       "      <td>0.0</td>\n",
       "      <td>0.0</td>\n",
       "      <td>3.772</td>\n",
       "      <td>12.442</td>\n",
       "    </tr>\n",
       "    <tr>\n",
       "      <th>3</th>\n",
       "      <td>Abdollahi, Mohammad</td>\n",
       "      <td>0.0</td>\n",
       "      <td>0.0</td>\n",
       "      <td>2.0</td>\n",
       "      <td>0.0</td>\n",
       "      <td>0.0</td>\n",
       "      <td>1.0</td>\n",
       "      <td>0.000</td>\n",
       "      <td>0.000</td>\n",
       "      <td>2.597</td>\n",
       "      <td>0.0</td>\n",
       "      <td>0.0</td>\n",
       "      <td>0.0</td>\n",
       "      <td>0.0</td>\n",
       "      <td>0.0</td>\n",
       "      <td>0.0</td>\n",
       "      <td>0.0</td>\n",
       "      <td>0.0</td>\n",
       "      <td>0.000</td>\n",
       "      <td>1.638</td>\n",
       "    </tr>\n",
       "    <tr>\n",
       "      <th>4</th>\n",
       "      <td>Abe, Koji</td>\n",
       "      <td>0.0</td>\n",
       "      <td>0.0</td>\n",
       "      <td>2.0</td>\n",
       "      <td>0.0</td>\n",
       "      <td>0.0</td>\n",
       "      <td>2.0</td>\n",
       "      <td>0.000</td>\n",
       "      <td>0.000</td>\n",
       "      <td>5.054</td>\n",
       "      <td>0.0</td>\n",
       "      <td>0.0</td>\n",
       "      <td>0.0</td>\n",
       "      <td>0.0</td>\n",
       "      <td>0.0</td>\n",
       "      <td>0.0</td>\n",
       "      <td>0.0</td>\n",
       "      <td>0.0</td>\n",
       "      <td>0.000</td>\n",
       "      <td>1.640</td>\n",
       "    </tr>\n",
       "  </tbody>\n",
       "</table>\n",
       "</div>"
      ],
      "text/plain": [
       "                 author  2010pb  2011pb  2012pb  2010fund  2011fund  2012fund  \\\n",
       "0  Abatangelo, Giovanni     1.0     0.0     0.0       0.0       0.0       0.0   \n",
       "1      Abbasi, Azhar Z.     0.0     1.0     0.0       0.0       1.0       0.0   \n",
       "2    Abdal-hay, Abdalla     0.0     0.0     2.0       0.0       0.0       2.0   \n",
       "3   Abdollahi, Mohammad     0.0     0.0     2.0       0.0       0.0       1.0   \n",
       "4             Abe, Koji     0.0     0.0     2.0       0.0       0.0       2.0   \n",
       "\n",
       "   2010im  2011im  2012im  2010pbf  2011pbf  2012pbf  2010fundf  2011fundf  \\\n",
       "0   6.202   0.000   0.000      0.0      0.0      0.0        0.0        0.0   \n",
       "1   0.000   4.596   0.000      0.0      0.0      0.0        0.0        0.0   \n",
       "2   0.000   0.000   3.772      0.0      0.0      2.0        0.0        0.0   \n",
       "3   0.000   0.000   2.597      0.0      0.0      0.0        0.0        0.0   \n",
       "4   0.000   0.000   5.054      0.0      0.0      0.0        0.0        0.0   \n",
       "\n",
       "   2012fundf  2010imf  2011imf  2012imf  target  \n",
       "0        0.0      0.0      0.0    0.000   1.458  \n",
       "1        0.0      0.0      0.0    0.000   8.387  \n",
       "2        2.0      0.0      0.0    3.772  12.442  \n",
       "3        0.0      0.0      0.0    0.000   1.638  \n",
       "4        0.0      0.0      0.0    0.000   1.640  "
      ]
     },
     "execution_count": 17,
     "metadata": {},
     "output_type": "execute_result"
    }
   ],
   "source": [
    "dfm.head()"
   ]
  },
  {
   "cell_type": "code",
   "execution_count": 18,
   "metadata": {},
   "outputs": [],
   "source": [
    "df = pd.merge(dfm,df3,on='author')"
   ]
  },
  {
   "cell_type": "code",
   "execution_count": 19,
   "metadata": {},
   "outputs": [
    {
     "data": {
      "text/html": [
       "<div>\n",
       "<style scoped>\n",
       "    .dataframe tbody tr th:only-of-type {\n",
       "        vertical-align: middle;\n",
       "    }\n",
       "\n",
       "    .dataframe tbody tr th {\n",
       "        vertical-align: top;\n",
       "    }\n",
       "\n",
       "    .dataframe thead th {\n",
       "        text-align: right;\n",
       "    }\n",
       "</style>\n",
       "<table border=\"1\" class=\"dataframe\">\n",
       "  <thead>\n",
       "    <tr style=\"text-align: right;\">\n",
       "      <th></th>\n",
       "      <th>author</th>\n",
       "      <th>2010pb</th>\n",
       "      <th>2011pb</th>\n",
       "      <th>2012pb</th>\n",
       "      <th>2010fund</th>\n",
       "      <th>2011fund</th>\n",
       "      <th>2012fund</th>\n",
       "      <th>2010im</th>\n",
       "      <th>2011im</th>\n",
       "      <th>2012im</th>\n",
       "      <th>...</th>\n",
       "      <th>2010imf</th>\n",
       "      <th>2011imf</th>\n",
       "      <th>2012imf</th>\n",
       "      <th>target</th>\n",
       "      <th>degree</th>\n",
       "      <th>indegree</th>\n",
       "      <th>outdegree</th>\n",
       "      <th>between</th>\n",
       "      <th>close</th>\n",
       "      <th>eigen</th>\n",
       "    </tr>\n",
       "  </thead>\n",
       "  <tbody>\n",
       "    <tr>\n",
       "      <th>0</th>\n",
       "      <td>Abatangelo, Giovanni</td>\n",
       "      <td>1.0</td>\n",
       "      <td>0.0</td>\n",
       "      <td>0.0</td>\n",
       "      <td>0.0</td>\n",
       "      <td>0.0</td>\n",
       "      <td>0.0</td>\n",
       "      <td>6.202</td>\n",
       "      <td>0.000</td>\n",
       "      <td>0.000</td>\n",
       "      <td>...</td>\n",
       "      <td>0.0</td>\n",
       "      <td>0.0</td>\n",
       "      <td>0.000</td>\n",
       "      <td>1.458</td>\n",
       "      <td>0.000035</td>\n",
       "      <td>0.000035</td>\n",
       "      <td>0.000000</td>\n",
       "      <td>0.0</td>\n",
       "      <td>0.000035</td>\n",
       "      <td>4.490235e-14</td>\n",
       "    </tr>\n",
       "    <tr>\n",
       "      <th>1</th>\n",
       "      <td>Abbasi, Azhar Z.</td>\n",
       "      <td>0.0</td>\n",
       "      <td>1.0</td>\n",
       "      <td>0.0</td>\n",
       "      <td>0.0</td>\n",
       "      <td>1.0</td>\n",
       "      <td>0.0</td>\n",
       "      <td>0.000</td>\n",
       "      <td>4.596</td>\n",
       "      <td>0.000</td>\n",
       "      <td>...</td>\n",
       "      <td>0.0</td>\n",
       "      <td>0.0</td>\n",
       "      <td>0.000</td>\n",
       "      <td>8.387</td>\n",
       "      <td>0.000035</td>\n",
       "      <td>0.000035</td>\n",
       "      <td>0.000000</td>\n",
       "      <td>0.0</td>\n",
       "      <td>0.000035</td>\n",
       "      <td>4.490235e-14</td>\n",
       "    </tr>\n",
       "    <tr>\n",
       "      <th>2</th>\n",
       "      <td>Abdal-hay, Abdalla</td>\n",
       "      <td>0.0</td>\n",
       "      <td>0.0</td>\n",
       "      <td>2.0</td>\n",
       "      <td>0.0</td>\n",
       "      <td>0.0</td>\n",
       "      <td>2.0</td>\n",
       "      <td>0.000</td>\n",
       "      <td>0.000</td>\n",
       "      <td>3.772</td>\n",
       "      <td>...</td>\n",
       "      <td>0.0</td>\n",
       "      <td>0.0</td>\n",
       "      <td>3.772</td>\n",
       "      <td>12.442</td>\n",
       "      <td>0.000106</td>\n",
       "      <td>0.000000</td>\n",
       "      <td>0.000106</td>\n",
       "      <td>0.0</td>\n",
       "      <td>0.000000</td>\n",
       "      <td>2.245117e-15</td>\n",
       "    </tr>\n",
       "    <tr>\n",
       "      <th>3</th>\n",
       "      <td>Abdollahi, Mohammad</td>\n",
       "      <td>0.0</td>\n",
       "      <td>0.0</td>\n",
       "      <td>2.0</td>\n",
       "      <td>0.0</td>\n",
       "      <td>0.0</td>\n",
       "      <td>1.0</td>\n",
       "      <td>0.000</td>\n",
       "      <td>0.000</td>\n",
       "      <td>2.597</td>\n",
       "      <td>...</td>\n",
       "      <td>0.0</td>\n",
       "      <td>0.0</td>\n",
       "      <td>0.000</td>\n",
       "      <td>1.638</td>\n",
       "      <td>0.000071</td>\n",
       "      <td>0.000071</td>\n",
       "      <td>0.000000</td>\n",
       "      <td>0.0</td>\n",
       "      <td>0.000071</td>\n",
       "      <td>8.755958e-14</td>\n",
       "    </tr>\n",
       "    <tr>\n",
       "      <th>4</th>\n",
       "      <td>Abe, Koji</td>\n",
       "      <td>0.0</td>\n",
       "      <td>0.0</td>\n",
       "      <td>2.0</td>\n",
       "      <td>0.0</td>\n",
       "      <td>0.0</td>\n",
       "      <td>2.0</td>\n",
       "      <td>0.000</td>\n",
       "      <td>0.000</td>\n",
       "      <td>5.054</td>\n",
       "      <td>...</td>\n",
       "      <td>0.0</td>\n",
       "      <td>0.0</td>\n",
       "      <td>0.000</td>\n",
       "      <td>1.640</td>\n",
       "      <td>0.000035</td>\n",
       "      <td>0.000035</td>\n",
       "      <td>0.000000</td>\n",
       "      <td>0.0</td>\n",
       "      <td>0.000035</td>\n",
       "      <td>4.490235e-14</td>\n",
       "    </tr>\n",
       "  </tbody>\n",
       "</table>\n",
       "<p>5 rows × 26 columns</p>\n",
       "</div>"
      ],
      "text/plain": [
       "                 author  2010pb  2011pb  2012pb  2010fund  2011fund  2012fund  \\\n",
       "0  Abatangelo, Giovanni     1.0     0.0     0.0       0.0       0.0       0.0   \n",
       "1      Abbasi, Azhar Z.     0.0     1.0     0.0       0.0       1.0       0.0   \n",
       "2    Abdal-hay, Abdalla     0.0     0.0     2.0       0.0       0.0       2.0   \n",
       "3   Abdollahi, Mohammad     0.0     0.0     2.0       0.0       0.0       1.0   \n",
       "4             Abe, Koji     0.0     0.0     2.0       0.0       0.0       2.0   \n",
       "\n",
       "   2010im  2011im  2012im      ...       2010imf  2011imf  2012imf  target  \\\n",
       "0   6.202   0.000   0.000      ...           0.0      0.0    0.000   1.458   \n",
       "1   0.000   4.596   0.000      ...           0.0      0.0    0.000   8.387   \n",
       "2   0.000   0.000   3.772      ...           0.0      0.0    3.772  12.442   \n",
       "3   0.000   0.000   2.597      ...           0.0      0.0    0.000   1.638   \n",
       "4   0.000   0.000   5.054      ...           0.0      0.0    0.000   1.640   \n",
       "\n",
       "     degree  indegree  outdegree  between     close         eigen  \n",
       "0  0.000035  0.000035   0.000000      0.0  0.000035  4.490235e-14  \n",
       "1  0.000035  0.000035   0.000000      0.0  0.000035  4.490235e-14  \n",
       "2  0.000106  0.000000   0.000106      0.0  0.000000  2.245117e-15  \n",
       "3  0.000071  0.000071   0.000000      0.0  0.000071  8.755958e-14  \n",
       "4  0.000035  0.000035   0.000000      0.0  0.000035  4.490235e-14  \n",
       "\n",
       "[5 rows x 26 columns]"
      ]
     },
     "execution_count": 19,
     "metadata": {},
     "output_type": "execute_result"
    }
   ],
   "source": [
    "df.head()"
   ]
  },
  {
   "cell_type": "code",
   "execution_count": 20,
   "metadata": {},
   "outputs": [
    {
     "data": {
      "text/plain": [
       "Index(['author', '2010pb', '2011pb', '2012pb', '2010fund', '2011fund',\n",
       "       '2012fund', '2010im', '2011im', '2012im', '2010pbf', '2011pbf',\n",
       "       '2012pbf', '2010fundf', '2011fundf', '2012fundf', '2010imf', '2011imf',\n",
       "       '2012imf', 'target', 'degree', 'indegree', 'outdegree', 'between',\n",
       "       'close', 'eigen'],\n",
       "      dtype='object')"
      ]
     },
     "execution_count": 20,
     "metadata": {},
     "output_type": "execute_result"
    }
   ],
   "source": [
    "df.columns"
   ]
  },
  {
   "cell_type": "code",
   "execution_count": 100,
   "metadata": {},
   "outputs": [],
   "source": [
    "#df.to_csv('../data/model.csv',index=False)"
   ]
  },
  {
   "cell_type": "code",
   "execution_count": 21,
   "metadata": {},
   "outputs": [],
   "source": [
    "df['pbsum']=df[['2010pb','2011pb','2012pb']].sum(axis=1)\n",
    "df['fundsum']=df[['2010fund','2011fund','2012fund']].sum(axis=1)\n",
    "df['imsum']=df[['2010im','2011im','2012im']].sum(axis=1)\n",
    "df['pbfsum']=df[['2010pbf','2011pbf','2012pbf']].sum(axis=1)\n",
    "df['fundfsum']=df[['2010fundf','2011fundf','2012fundf']].sum(axis=1)\n",
    "df['imfsum']=df[['2010imf','2011imf','2012imf']].sum(axis=1)"
   ]
  },
  {
   "cell_type": "code",
   "execution_count": 22,
   "metadata": {},
   "outputs": [],
   "source": [
    "df['pbdif']=df['2012pb']-df['2011pb']\n",
    "df['funddif']=df['2012fund']-df['2011fund']\n",
    "df['imdif']=df['2012im']-df['2011im']\n",
    "df['pbfdif']=df['2012pbf']-df['2011pbf']\n",
    "df['fundfdif']=df['2012fundf']-df['2011fundf']\n",
    "df['imfdif']=df['2012imf']-df['2011imf']"
   ]
  },
  {
   "cell_type": "code",
   "execution_count": 24,
   "metadata": {},
   "outputs": [
    {
     "data": {
      "text/html": [
       "<div>\n",
       "<style scoped>\n",
       "    .dataframe tbody tr th:only-of-type {\n",
       "        vertical-align: middle;\n",
       "    }\n",
       "\n",
       "    .dataframe tbody tr th {\n",
       "        vertical-align: top;\n",
       "    }\n",
       "\n",
       "    .dataframe thead th {\n",
       "        text-align: right;\n",
       "    }\n",
       "</style>\n",
       "<table border=\"1\" class=\"dataframe\">\n",
       "  <thead>\n",
       "    <tr style=\"text-align: right;\">\n",
       "      <th></th>\n",
       "      <th>author</th>\n",
       "      <th>2010pb</th>\n",
       "      <th>2011pb</th>\n",
       "      <th>2012pb</th>\n",
       "      <th>2010fund</th>\n",
       "      <th>2011fund</th>\n",
       "      <th>2012fund</th>\n",
       "      <th>2010im</th>\n",
       "      <th>2011im</th>\n",
       "      <th>2012im</th>\n",
       "      <th>...</th>\n",
       "      <th>imsum</th>\n",
       "      <th>pbfsum</th>\n",
       "      <th>fundfsum</th>\n",
       "      <th>imfsum</th>\n",
       "      <th>pbdif</th>\n",
       "      <th>funddif</th>\n",
       "      <th>imdif</th>\n",
       "      <th>pbfdif</th>\n",
       "      <th>fundfdif</th>\n",
       "      <th>imfdif</th>\n",
       "    </tr>\n",
       "  </thead>\n",
       "  <tbody>\n",
       "    <tr>\n",
       "      <th>0</th>\n",
       "      <td>Abatangelo, Giovanni</td>\n",
       "      <td>1.0</td>\n",
       "      <td>0.0</td>\n",
       "      <td>0.0</td>\n",
       "      <td>0.0</td>\n",
       "      <td>0.0</td>\n",
       "      <td>0.0</td>\n",
       "      <td>6.202</td>\n",
       "      <td>0.0</td>\n",
       "      <td>0.0</td>\n",
       "      <td>...</td>\n",
       "      <td>6.202</td>\n",
       "      <td>0.0</td>\n",
       "      <td>0.0</td>\n",
       "      <td>0.0</td>\n",
       "      <td>0.0</td>\n",
       "      <td>0.0</td>\n",
       "      <td>0.0</td>\n",
       "      <td>0.0</td>\n",
       "      <td>0.0</td>\n",
       "      <td>0.0</td>\n",
       "    </tr>\n",
       "  </tbody>\n",
       "</table>\n",
       "<p>1 rows × 38 columns</p>\n",
       "</div>"
      ],
      "text/plain": [
       "                 author  2010pb  2011pb  2012pb  2010fund  2011fund  2012fund  \\\n",
       "0  Abatangelo, Giovanni     1.0     0.0     0.0       0.0       0.0       0.0   \n",
       "\n",
       "   2010im  2011im  2012im   ...    imsum  pbfsum  fundfsum  imfsum  pbdif  \\\n",
       "0   6.202     0.0     0.0   ...    6.202     0.0       0.0     0.0    0.0   \n",
       "\n",
       "   funddif  imdif  pbfdif  fundfdif  imfdif  \n",
       "0      0.0    0.0     0.0       0.0     0.0  \n",
       "\n",
       "[1 rows x 38 columns]"
      ]
     },
     "execution_count": 24,
     "metadata": {},
     "output_type": "execute_result"
    }
   ],
   "source": [
    "df[df['author']=='Abatangelo, Giovanni']"
   ]
  },
  {
   "cell_type": "code",
   "execution_count": 25,
   "metadata": {},
   "outputs": [
    {
     "data": {
      "text/plain": [
       "Index(['author', '2010pb', '2011pb', '2012pb', '2010fund', '2011fund',\n",
       "       '2012fund', '2010im', '2011im', '2012im', '2010pbf', '2011pbf',\n",
       "       '2012pbf', '2010fundf', '2011fundf', '2012fundf', '2010imf', '2011imf',\n",
       "       '2012imf', 'target', 'degree', 'indegree', 'outdegree', 'between',\n",
       "       'close', 'eigen', 'pbsum', 'fundsum', 'imsum', 'pbfsum', 'fundfsum',\n",
       "       'imfsum', 'pbdif', 'funddif', 'imdif', 'pbfdif', 'fundfdif', 'imfdif'],\n",
       "      dtype='object')"
      ]
     },
     "execution_count": 25,
     "metadata": {},
     "output_type": "execute_result"
    }
   ],
   "source": [
    "df.columns"
   ]
  },
  {
   "cell_type": "code",
   "execution_count": 26,
   "metadata": {},
   "outputs": [
    {
     "data": {
      "text/plain": [
       "<matplotlib.collections.PathCollection at 0x10c93a470>"
      ]
     },
     "execution_count": 26,
     "metadata": {},
     "output_type": "execute_result"
    },
    {
     "data": {
      "image/png": "[encoded data removed]",
      "text/plain": [
       "<Figure size 432x288 with 1 Axes>"
      ]
     },
     "metadata": {},
     "output_type": "display_data"
    }
   ],
   "source": [
    "fig,ax=plt.subplots()\n",
    "ax.scatter(x=df['imfsum'],y=df['target'])"
   ]
  },
  {
   "cell_type": "code",
   "execution_count": 28,
   "metadata": {},
   "outputs": [
    {
     "name": "stderr",
     "output_type": "stream",
     "text": [
      "/Users/jiahuibi/anaconda/lib/python3.6/site-packages/scipy/stats/stats.py:1706: FutureWarning: Using a non-tuple sequence for multidimensional indexing is deprecated; use `arr[tuple(seq)]` instead of `arr[seq]`. In the future this will be interpreted as an array index, `arr[np.array(seq)]`, which will result either in an error or a different result.\n",
      "  return np.add.reduce(sorted[indexer] * weights, axis=axis) / sumval\n",
      "/Users/jiahuibi/anaconda/lib/python3.6/site-packages/matplotlib/axes/_axes.py:6499: MatplotlibDeprecationWarning: \n",
      "The 'normed' kwarg was deprecated in Matplotlib 2.1 and will be removed in 3.1. Use 'density' instead.\n",
      "  alternative=\"'density'\", removal=\"3.1\")\n"
     ]
    },
    {
     "name": "stdout",
     "output_type": "stream",
     "text": [
      "\n",
      " mu = 9.24 and sigma = 15.08\n",
      "\n"
     ]
    },
    {
     "data": {
      "image/png": "[encoded data removed]",
      "text/plain": [
       "<Figure size 432x288 with 1 Axes>"
      ]
     },
     "metadata": {},
     "output_type": "display_data"
    }
   ],
   "source": [
    "from scipy.stats import norm, skew\n",
    "sns.distplot(df['target'] , fit=norm);\n",
    "\n",
    "# Get the fitted parameters used by the function\n",
    "(mu, sigma) = norm.fit(df['target'])\n",
    "print( '\\n mu = {:.2f} and sigma = {:.2f}\\n'.format(mu, sigma))\n",
    "\n",
    "#Now plot the distribution\n",
    "plt.legend(['Normal dist. ($\\mu=$ {:.2f} and $\\sigma=$ {:.2f} )'.format(mu, sigma)],\n",
    "            loc='best');\n",
    "plt.ylabel('Frequency');\n",
    "plt.title('Impact Factor distribution');"
   ]
  },
  {
   "cell_type": "code",
   "execution_count": 29,
   "metadata": {},
   "outputs": [
    {
     "data": {
      "image/png": "[encoded data removed]",
      "text/plain": [
       "<Figure size 864x648 with 2 Axes>"
      ]
     },
     "metadata": {},
     "output_type": "display_data"
    }
   ],
   "source": [
    "corr = df.corr()\n",
    "plt.subplots(figsize=(12,9));\n",
    "sns.heatmap(corr, vmax=0.9, square=True);"
   ]
  },
  {
   "cell_type": "code",
   "execution_count": 30,
   "metadata": {
    "scrolled": true
   },
   "outputs": [
    {
     "name": "stdout",
     "output_type": "stream",
     "text": [
      "target       1.000000\n",
      "imsum        0.661922\n",
      "fundsum      0.637975\n",
      "pbsum        0.635542\n",
      "indegree     0.605892\n",
      "2012im       0.552281\n",
      "close        0.536770\n",
      "2011im       0.505246\n",
      "2010im       0.496804\n",
      "2012fund     0.493768\n",
      "2012pb       0.490062\n",
      "2011fund     0.471024\n",
      "2010fund     0.470967\n",
      "2010pb       0.465639\n",
      "2011pb       0.461046\n",
      "degree       0.380942\n",
      "imfsum       0.126765\n",
      "between      0.110815\n",
      "2011imf      0.101392\n",
      "eigen        0.096168\n",
      "pbfsum       0.092233\n",
      "2011pbf      0.082190\n",
      "2010imf      0.078804\n",
      "fundfsum     0.073141\n",
      "2012imf      0.064825\n",
      "imdif        0.064382\n",
      "2011fundf    0.061966\n",
      "2010pbf      0.059821\n",
      "outdegree    0.059273\n",
      "funddif      0.052959\n",
      "2010fundf    0.044320\n",
      "2012pbf      0.039669\n",
      "pbdif        0.037448\n",
      "2012fundf    0.033123\n",
      "fundfdif    -0.017132\n",
      "imfdif      -0.025915\n",
      "pbfdif      -0.028730\n",
      "Name: target, dtype: float64\n"
     ]
    }
   ],
   "source": [
    "corr.sort_values([\"target\"], ascending = False, inplace = True)\n",
    "print(corr.target)"
   ]
  },
  {
   "cell_type": "code",
   "execution_count": 36,
   "metadata": {},
   "outputs": [
    {
     "data": {
      "text/html": [
       "<div>\n",
       "<style scoped>\n",
       "    .dataframe tbody tr th:only-of-type {\n",
       "        vertical-align: middle;\n",
       "    }\n",
       "\n",
       "    .dataframe tbody tr th {\n",
       "        vertical-align: top;\n",
       "    }\n",
       "\n",
       "    .dataframe thead th {\n",
       "        text-align: right;\n",
       "    }\n",
       "</style>\n",
       "<table border=\"1\" class=\"dataframe\">\n",
       "  <thead>\n",
       "    <tr style=\"text-align: right;\">\n",
       "      <th></th>\n",
       "      <th>target</th>\n",
       "    </tr>\n",
       "  </thead>\n",
       "  <tbody>\n",
       "    <tr>\n",
       "      <th>pbfdif</th>\n",
       "      <td>-0.028730</td>\n",
       "    </tr>\n",
       "    <tr>\n",
       "      <th>imfdif</th>\n",
       "      <td>-0.025915</td>\n",
       "    </tr>\n",
       "    <tr>\n",
       "      <th>fundfdif</th>\n",
       "      <td>-0.017132</td>\n",
       "    </tr>\n",
       "    <tr>\n",
       "      <th>2012fundf</th>\n",
       "      <td>0.033123</td>\n",
       "    </tr>\n",
       "    <tr>\n",
       "      <th>pbdif</th>\n",
       "      <td>0.037448</td>\n",
       "    </tr>\n",
       "    <tr>\n",
       "      <th>2012pbf</th>\n",
       "      <td>0.039669</td>\n",
       "    </tr>\n",
       "    <tr>\n",
       "      <th>2010fundf</th>\n",
       "      <td>0.044320</td>\n",
       "    </tr>\n",
       "    <tr>\n",
       "      <th>funddif</th>\n",
       "      <td>0.052959</td>\n",
       "    </tr>\n",
       "    <tr>\n",
       "      <th>outdegree</th>\n",
       "      <td>0.059273</td>\n",
       "    </tr>\n",
       "    <tr>\n",
       "      <th>2010pbf</th>\n",
       "      <td>0.059821</td>\n",
       "    </tr>\n",
       "    <tr>\n",
       "      <th>2011fundf</th>\n",
       "      <td>0.061966</td>\n",
       "    </tr>\n",
       "  </tbody>\n",
       "</table>\n",
       "</div>"
      ],
      "text/plain": [
       "             target\n",
       "pbfdif    -0.028730\n",
       "imfdif    -0.025915\n",
       "fundfdif  -0.017132\n",
       "2012fundf  0.033123\n",
       "pbdif      0.037448\n",
       "2012pbf    0.039669\n",
       "2010fundf  0.044320\n",
       "funddif    0.052959\n",
       "outdegree  0.059273\n",
       "2010pbf    0.059821\n",
       "2011fundf  0.061966"
      ]
     },
     "execution_count": 36,
     "metadata": {},
     "output_type": "execute_result"
    }
   ],
   "source": [
    "pd.DataFrame(corr.target).sort_values('target',ascending=True).head(11)\n"
   ]
  },
  {
   "cell_type": "code",
   "execution_count": 38,
   "metadata": {},
   "outputs": [
    {
     "data": {
      "text/plain": [
       "<matplotlib.axes._subplots.AxesSubplot at 0x1a277ce358>"
      ]
     },
     "execution_count": 38,
     "metadata": {},
     "output_type": "execute_result"
    },
    {
     "data": {
      "image/png": "[encoded data removed]",
      "text/plain": [
       "<Figure size 1440x720 with 1 Axes>"
      ]
     },
     "metadata": {},
     "output_type": "display_data"
    }
   ],
   "source": [
    "pd.DataFrame(corr.target).sort_values('target',ascending=True).plot(kind=\"barh\", figsize=(20,10))"
   ]
  },
  {
   "cell_type": "code",
   "execution_count": 92,
   "metadata": {},
   "outputs": [
    {
     "data": {
      "text/plain": [
       "array([' Aamer, Khaled', ' Aanestad, Jon', ' Aass, Anne Merete', ...,\n",
       "       ' von Trotha, Klaus T.', ' von Versen, Ruediger',\n",
       "       ' von Wilmowsky, Cornelius'], dtype=object)"
      ]
     },
     "execution_count": 92,
     "metadata": {},
     "output_type": "execute_result"
    }
   ],
   "source": [
    "#np.setdiff1d(df1['author'].unique(), df3['author'].unique())"
   ]
  },
  {
   "cell_type": "code",
   "execution_count": 39,
   "metadata": {},
   "outputs": [],
   "source": [
    "y = df['target']\n",
    "x = df.drop(['author','target'],axis=1)"
   ]
  },
  {
   "cell_type": "code",
   "execution_count": 40,
   "metadata": {},
   "outputs": [],
   "source": [
    "X_train, X_test, y_train, y_test = train_test_split(x, y, test_size = 0.3, random_state = 0)"
   ]
  },
  {
   "cell_type": "code",
   "execution_count": 41,
   "metadata": {},
   "outputs": [],
   "source": [
    "scorer = make_scorer(mean_squared_error, greater_is_better = False)\n",
    "\n",
    "def rmse_cv_train(model):\n",
    "    rmse= np.sqrt(-cross_val_score(model, X_train, y_train, scoring = scorer, cv = 10))\n",
    "    return(rmse)\n",
    "\n",
    "def rmse_cv_test(model):\n",
    "    rmse= np.sqrt(-cross_val_score(model, X_test, y_test, scoring = scorer, cv = 10))\n",
    "    return(rmse)"
   ]
  },
  {
   "cell_type": "code",
   "execution_count": 42,
   "metadata": {},
   "outputs": [
    {
     "name": "stdout",
     "output_type": "stream",
     "text": [
      "RMSE on Training set : 11.291505721484572\n",
      "RMSE on Test set : 10.439429065812707\n"
     ]
    },
    {
     "data": {
      "image/png": "[encoded data removed]",
      "text/plain": [
       "<Figure size 432x288 with 1 Axes>"
      ]
     },
     "metadata": {},
     "output_type": "display_data"
    },
    {
     "data": {
      "image/png": "[encoded data removed]",
      "text/plain": [
       "<Figure size 432x288 with 1 Axes>"
      ]
     },
     "metadata": {},
     "output_type": "display_data"
    }
   ],
   "source": [
    "lr = LinearRegression()\n",
    "lr.fit(X_train, y_train)\n",
    "\n",
    "# Look at predictions on training and validation set\n",
    "print(\"RMSE on Training set :\", rmse_cv_train(lr).mean())\n",
    "print(\"RMSE on Test set :\", rmse_cv_test(lr).mean())\n",
    "\n",
    "y_train_pred = lr.predict(X_train)\n",
    "y_test_pred = lr.predict(X_test)\n",
    "\n",
    "# Plot residuals\n",
    "plt.scatter(y_train_pred, y_train_pred - y_train, c = \"blue\", marker = \"s\", label = \"Training data\")\n",
    "plt.scatter(y_test_pred, y_test_pred - y_test, c = \"lightgreen\", marker = \"s\", label = \"Validation data\")\n",
    "plt.title(\"Linear regression\");\n",
    "plt.xlabel(\"Predicted values\");\n",
    "plt.ylabel(\"Residuals\");\n",
    "plt.legend(loc = \"upper left\");\n",
    "plt.hlines(y = 0, xmin = 10.5, xmax = 135, color = \"red\");\n",
    "plt.show();\n",
    "\n",
    "# Plot predictions\n",
    "plt.scatter(y_train_pred, y_train, s=10,c = \"blue\", marker = \"o\", label = \"Training data\")\n",
    "plt.scatter(y_test_pred, y_test,s=10, c = \"lightgreen\", marker = \"o\", label = \"Validation data\")\n",
    "plt.title(\"Linear regression\");\n",
    "plt.xlabel(\"Predicted values\");\n",
    "plt.ylabel(\"Real values\");\n",
    "plt.legend(loc = \"upper left\");\n",
    "plt.plot([10, 140], [10, 140], c = \"red\");\n",
    "plt.show();"
   ]
  },
  {
   "cell_type": "code",
   "execution_count": 44,
   "metadata": {},
   "outputs": [
    {
     "name": "stdout",
     "output_type": "stream",
     "text": [
      "Best alpha : 60.0\n",
      "Try again for more precision with alphas centered around 60.0\n",
      "Best alpha : 84.0\n",
      "Ridge RMSE on Training set : 11.268868594118496\n",
      "Ridge RMSE on Test set : 10.305917266320467\n"
     ]
    },
    {
     "data": {
      "image/png": "[encoded data removed]",
      "text/plain": [
       "<Figure size 432x288 with 1 Axes>"
      ]
     },
     "metadata": {},
     "output_type": "display_data"
    },
    {
     "data": {
      "image/png": "[encoded data removed]",
      "text/plain": [
       "<Figure size 432x288 with 1 Axes>"
      ]
     },
     "metadata": {},
     "output_type": "display_data"
    },
    {
     "name": "stdout",
     "output_type": "stream",
     "text": [
      "Ridge picked 36 features and eliminated the other 0 features\n"
     ]
    },
    {
     "data": {
      "image/png": "[encoded data removed]",
      "text/plain": [
       "<Figure size 432x288 with 1 Axes>"
      ]
     },
     "metadata": {},
     "output_type": "display_data"
    }
   ],
   "source": [
    "ridge = RidgeCV(alphas = [0.01, 0.03, 0.06, 0.1, 0.3, 0.6, 1, 3, 6, 10, 30, 60])\n",
    "ridge.fit(X_train, y_train)\n",
    "alpha = ridge.alpha_\n",
    "print(\"Best alpha :\", alpha)\n",
    "\n",
    "print(\"Try again for more precision with alphas centered around \" + str(alpha))\n",
    "ridge = RidgeCV(alphas = [alpha * .6, alpha * .65, alpha * .7, alpha * .75, alpha * .8, alpha * .85, \n",
    "                          alpha * .9, alpha * .95, alpha, alpha * 1.05, alpha * 1.1, alpha * 1.15,\n",
    "                          alpha * 1.25, alpha * 1.3, alpha * 1.35, alpha * 1.4], \n",
    "                cv = 10)\n",
    "ridge.fit(X_train, y_train)\n",
    "alpha = ridge.alpha_\n",
    "print(\"Best alpha :\", alpha)\n",
    "\n",
    "print(\"Ridge RMSE on Training set :\", rmse_cv_train(ridge).mean())\n",
    "print(\"Ridge RMSE on Test set :\", rmse_cv_test(ridge).mean())\n",
    "y_train_rdg = ridge.predict(X_train)\n",
    "y_test_rdg = ridge.predict(X_test)\n",
    "\n",
    "# Plot residuals\n",
    "plt.scatter(y_train_rdg, y_train_rdg - y_train, c = \"blue\", marker = \"s\", label = \"Training data\")\n",
    "plt.scatter(y_test_rdg, y_test_rdg - y_test, c = \"lightgreen\", marker = \"s\", label = \"Validation data\")\n",
    "plt.title(\"Linear regression with Ridge regularization\");\n",
    "plt.xlabel(\"Predicted values\");\n",
    "plt.ylabel(\"Residuals\");\n",
    "plt.legend(loc = \"upper left\");\n",
    "plt.hlines(y = 0, xmin = 10.5, xmax = 200, color = \"red\");\n",
    "plt.show();\n",
    "\n",
    "# Plot predictions\n",
    "plt.scatter(y_train_rdg, y_train, c = \"blue\", marker = \"s\", label = \"Training data\")\n",
    "plt.scatter(y_test_rdg, y_test, c = \"lightgreen\", marker = \"s\", label = \"Validation data\")\n",
    "plt.title(\"Linear regression with Ridge regularization\");\n",
    "plt.xlabel(\"Predicted values\");\n",
    "plt.ylabel(\"Real values\");\n",
    "plt.legend(loc = \"upper left\");\n",
    "plt.plot([10.5, 135], [10.5, 135], c = \"red\");\n",
    "plt.show();\n",
    "\n",
    "# Plot important coefficients\n",
    "coefs = pd.Series(ridge.coef_, index = X_train.columns)\n",
    "print(\"Ridge picked \" + str(sum(coefs != 0)) + \" features and eliminated the other \" +  \\\n",
    "      str(sum(coefs == 0)) + \" features\")\n",
    "imp_coefs = pd.concat([coefs.sort_values().head(10),\n",
    "                     coefs.sort_values().tail(10)])\n",
    "imp_coefs.plot(kind = \"barh\");\n",
    "plt.title(\"Coefficients in the Ridge Model\");\n",
    "plt.show();"
   ]
  },
  {
   "cell_type": "code",
   "execution_count": 45,
   "metadata": {},
   "outputs": [
    {
     "data": {
      "text/plain": [
       "pbfsum      -0.550501\n",
       "2011pbf     -0.549134\n",
       "2010fundf   -0.491015\n",
       "2012pbf     -0.412583\n",
       "2010fund    -0.398770\n",
       "fundfdif    -0.171740\n",
       "imfdif      -0.159391\n",
       "2012imf     -0.157864\n",
       "imfsum      -0.118237\n",
       "2010im      -0.106835\n",
       "2012fund     0.339628\n",
       "imsum        0.347504\n",
       "2012fundf    0.368716\n",
       "fundsum      0.375089\n",
       "2010pbf      0.411215\n",
       "fundfsum     0.418158\n",
       "2011fund     0.434231\n",
       "2011fundf    0.540457\n",
       "2010pb       0.582350\n",
       "pbsum        0.831382\n",
       "dtype: float64"
      ]
     },
     "execution_count": 45,
     "metadata": {},
     "output_type": "execute_result"
    }
   ],
   "source": [
    "imp_coefs"
   ]
  },
  {
   "cell_type": "code",
   "execution_count": 47,
   "metadata": {},
   "outputs": [
    {
     "name": "stdout",
     "output_type": "stream",
     "text": [
      "Best alpha : 0.3\n",
      "Try again for more precision with alphas centered around 0.3\n",
      "Best alpha : 0.18\n",
      "Lasso RMSE on Training set : 11.233719680077602\n",
      "Lasso RMSE on Test set : 10.293725808863224\n"
     ]
    },
    {
     "data": {
      "image/png": "[encoded data removed]",
      "text/plain": [
       "<Figure size 432x288 with 1 Axes>"
      ]
     },
     "metadata": {},
     "output_type": "display_data"
    },
    {
     "data": {
      "image/png": "[encoded data removed]",
      "text/plain": [
       "<Figure size 432x288 with 1 Axes>"
      ]
     },
     "metadata": {},
     "output_type": "display_data"
    },
    {
     "name": "stdout",
     "output_type": "stream",
     "text": [
      "Lasso picked 9 features and eliminated the other 27 features\n"
     ]
    },
    {
     "data": {
      "image/png": "[encoded data removed]",
      "text/plain": [
       "<Figure size 432x288 with 1 Axes>"
      ]
     },
     "metadata": {},
     "output_type": "display_data"
    }
   ],
   "source": [
    "lasso = LassoCV(alphas = [0.0001, 0.0003, 0.0006, 0.001, 0.003, 0.006, 0.01, 0.03, 0.06, 0.1, \n",
    "                          0.3, 0.6, 1], \n",
    "                max_iter = 50000, cv = 10)\n",
    "lasso.fit(X_train, y_train)\n",
    "alpha = lasso.alpha_\n",
    "print(\"Best alpha :\", alpha)\n",
    "\n",
    "print(\"Try again for more precision with alphas centered around \" + str(alpha))\n",
    "lasso = LassoCV(alphas = [alpha * .6, alpha * .65, alpha * .7, alpha * .75, alpha * .8, \n",
    "                          alpha * .85, alpha * .9, alpha * .95, alpha, alpha * 1.05, \n",
    "                          alpha * 1.1, alpha * 1.15, alpha * 1.25, alpha * 1.3, alpha * 1.35, \n",
    "                          alpha * 1.4], \n",
    "                max_iter = 50000, cv = 10)\n",
    "lasso.fit(X_train, y_train)\n",
    "alpha = lasso.alpha_\n",
    "print(\"Best alpha :\", alpha)\n",
    "\n",
    "print(\"Lasso RMSE on Training set :\", rmse_cv_train(lasso).mean())\n",
    "print(\"Lasso RMSE on Test set :\", rmse_cv_test(lasso).mean())\n",
    "y_train_las = lasso.predict(X_train)\n",
    "y_test_las = lasso.predict(X_test)\n",
    "\n",
    "# Plot residuals\n",
    "plt.scatter(y_train_las, y_train_las - y_train, c = \"blue\", marker = \"s\", label = \"Training data\")\n",
    "plt.scatter(y_test_las, y_test_las - y_test, c = \"lightgreen\", marker = \"s\", label = \"Validation data\")\n",
    "plt.title(\"Linear regression with Lasso regularization\")\n",
    "plt.xlabel(\"Predicted values\");\n",
    "plt.ylabel(\"Residuals\");\n",
    "plt.legend(loc = \"upper left\");\n",
    "plt.hlines(y = 0, xmin = 10.5, xmax = 135, color = \"red\");\n",
    "plt.show();\n",
    "\n",
    "# Plot predictions\n",
    "plt.scatter(y_train_las, y_train, c = \"blue\", marker = \"s\", label = \"Training data\")\n",
    "plt.scatter(y_test_las, y_test, c = \"lightgreen\", marker = \"s\", label = \"Validation data\")\n",
    "plt.title(\"Linear regression with Lasso regularization\");\n",
    "plt.xlabel(\"Predicted values\");\n",
    "plt.ylabel(\"Real values\");\n",
    "plt.legend(loc = \"upper left\");\n",
    "plt.plot([10.5, 135], [10.5, 135], c = \"red\");\n",
    "plt.show();\n",
    "\n",
    "# Plot important coefficients\n",
    "coefs = pd.Series(lasso.coef_, index = X_train.columns)\n",
    "print(\"Lasso picked \" + str(sum(coefs != 0)) + \" features and eliminated the other \" +  \\\n",
    "      str(sum(coefs == 0)) + \" features\")\n",
    "imp_coefs = pd.concat([coefs.sort_values().head(10),\n",
    "                     coefs.sort_values().tail(10)])\n",
    "imp_coefs.plot(kind = \"barh\");\n",
    "plt.title(\"Coefficients in the Lasso Model\");\n",
    "plt.show();"
   ]
  },
  {
   "cell_type": "code",
   "execution_count": 49,
   "metadata": {},
   "outputs": [
    {
     "name": "stderr",
     "output_type": "stream",
     "text": [
      "/Users/jiahuibi/anaconda/lib/python3.6/site-packages/sklearn/linear_model/coordinate_descent.py:491: ConvergenceWarning: Objective did not converge. You might want to increase the number of iterations. Fitting data with very small alpha may cause precision problems.\n",
      "  ConvergenceWarning)\n"
     ]
    },
    {
     "name": "stdout",
     "output_type": "stream",
     "text": [
      "Best l1_ratio : 0.3\n",
      "Best alpha : 0.6\n",
      "Try again for more precision with l1_ratio centered around 0.3\n",
      "Best l1_ratio : 0.3\n",
      "Best alpha : 0.6\n",
      "Now try again for more precision on alpha, with l1_ratio fixed at 0.3 and alpha centered around 0.6\n",
      "Best l1_ratio : 0.3\n",
      "Best alpha : 0.6\n",
      "ElasticNet RMSE on Training set : 11.227430638548023\n",
      "ElasticNet RMSE on Test set : 10.286686180824223\n"
     ]
    },
    {
     "data": {
      "image/png": "[encoded data removed]",
      "text/plain": [
       "<Figure size 432x288 with 1 Axes>"
      ]
     },
     "metadata": {},
     "output_type": "display_data"
    },
    {
     "data": {
      "image/png": "[encoded data removed]",
      "text/plain": [
       "<Figure size 432x288 with 1 Axes>"
      ]
     },
     "metadata": {},
     "output_type": "display_data"
    },
    {
     "name": "stdout",
     "output_type": "stream",
     "text": [
      "ElasticNet picked 11 features and eliminated the other 25 features\n"
     ]
    },
    {
     "data": {
      "image/png": "[encoded data removed]",
      "text/plain": [
       "<Figure size 432x288 with 1 Axes>"
      ]
     },
     "metadata": {},
     "output_type": "display_data"
    }
   ],
   "source": [
    "elasticNet = ElasticNetCV(l1_ratio = [0.1, 0.3, 0.5, 0.6, 0.7, 0.8, 0.85, 0.9, 0.95, 1],\n",
    "                          alphas = [0.0001, 0.0003, 0.0006, 0.001, 0.003, 0.006, \n",
    "                                    0.01, 0.03, 0.06, 0.1, 0.3, 0.6, 1, 3, 6], \n",
    "                          max_iter = 50000, cv = 10)\n",
    "elasticNet.fit(X_train, y_train)\n",
    "alpha = elasticNet.alpha_\n",
    "ratio = elasticNet.l1_ratio_\n",
    "print(\"Best l1_ratio :\", ratio)\n",
    "print(\"Best alpha :\", alpha )\n",
    "\n",
    "print(\"Try again for more precision with l1_ratio centered around \" + str(ratio))\n",
    "elasticNet = ElasticNetCV(l1_ratio = [ratio * .85, ratio * .9, ratio * .95, ratio, ratio * 1.05, ratio * 1.1, ratio * 1.15],\n",
    "                          alphas = [0.0001, 0.0003, 0.0006, 0.001, 0.003, 0.006, 0.01, 0.03, 0.06, 0.1, 0.3, 0.6, 1, 3, 6], \n",
    "                          max_iter = 50000, cv = 10)\n",
    "elasticNet.fit(X_train, y_train)\n",
    "if (elasticNet.l1_ratio_ > 1):\n",
    "    elasticNet.l1_ratio_ = 1    \n",
    "alpha = elasticNet.alpha_\n",
    "ratio = elasticNet.l1_ratio_\n",
    "print(\"Best l1_ratio :\", ratio)\n",
    "print(\"Best alpha :\", alpha )\n",
    "\n",
    "print(\"Now try again for more precision on alpha, with l1_ratio fixed at \" + str(ratio) + \n",
    "      \" and alpha centered around \" + str(alpha))\n",
    "elasticNet = ElasticNetCV(l1_ratio = ratio,\n",
    "                          alphas = [alpha * .6, alpha * .65, alpha * .7, alpha * .75, alpha * .8, alpha * .85, alpha * .9, \n",
    "                                    alpha * .95, alpha, alpha * 1.05, alpha * 1.1, alpha * 1.15, alpha * 1.25, alpha * 1.3, \n",
    "                                    alpha * 1.35, alpha * 1.4], \n",
    "                          max_iter = 50000, cv = 10)\n",
    "elasticNet.fit(X_train, y_train)\n",
    "if (elasticNet.l1_ratio_ > 1):\n",
    "    elasticNet.l1_ratio_ = 1    \n",
    "alpha = elasticNet.alpha_\n",
    "ratio = elasticNet.l1_ratio_\n",
    "print(\"Best l1_ratio :\", ratio)\n",
    "print(\"Best alpha :\", alpha )\n",
    "\n",
    "print(\"ElasticNet RMSE on Training set :\", rmse_cv_train(elasticNet).mean())\n",
    "print(\"ElasticNet RMSE on Test set :\", rmse_cv_test(elasticNet).mean())\n",
    "y_train_ela = elasticNet.predict(X_train)\n",
    "y_test_ela = elasticNet.predict(X_test)\n",
    "\n",
    "# Plot residuals\n",
    "plt.scatter(y_train_ela, y_train_ela - y_train, c = \"blue\", marker = \"s\", label = \"Training data\")\n",
    "plt.scatter(y_test_ela, y_test_ela - y_test, c = \"lightgreen\", marker = \"s\", label = \"Validation data\")\n",
    "plt.title(\"Linear regression with ElasticNet regularization\");\n",
    "plt.xlabel(\"Predicted values\");\n",
    "plt.ylabel(\"Residuals\");\n",
    "plt.legend(loc = \"upper left\");\n",
    "plt.hlines(y = 0, xmin = 10.5, xmax = 135, color = \"red\");\n",
    "plt.show();\n",
    "\n",
    "# Plot predictions\n",
    "plt.scatter(y_train, y_train_ela, c = \"blue\", marker = \"s\", label = \"Training data\")\n",
    "plt.scatter(y_test, y_test_ela, c = \"lightgreen\", marker = \"s\", label = \"Validation data\")\n",
    "plt.title(\"Linear regression with ElasticNet regularization\");\n",
    "plt.xlabel(\"Predicted values\");\n",
    "plt.ylabel(\"Real values\");\n",
    "plt.legend(loc = \"upper left\");\n",
    "plt.plot([10.5, 135], [10.5, 135], c = \"red\");\n",
    "plt.show();\n",
    "\n",
    "# Plot important coefficients\n",
    "coefs = pd.Series(elasticNet.coef_, index = X_train.columns)\n",
    "print(\"ElasticNet picked \" + str(sum(coefs != 0)) + \" features and eliminated the other \" +  str(sum(coefs == 0)) + \" features\")\n",
    "imp_coefs = pd.concat([coefs.sort_values().head(10),\n",
    "                     coefs.sort_values().tail(10)])\n",
    "imp_coefs.plot(kind = \"barh\");\n",
    "plt.title(\"Coefficients in the ElasticNet Model\");\n",
    "plt.show();"
   ]
  },
  {
   "cell_type": "code",
   "execution_count": 50,
   "metadata": {},
   "outputs": [],
   "source": [
    "y_te_pred = elasticNet.predict(x)"
   ]
  },
  {
   "cell_type": "code",
   "execution_count": 51,
   "metadata": {},
   "outputs": [],
   "source": [
    "prediction = pd.DataFrame(y_te_pred, columns=['target'])\n",
    "result = pd.concat([df['author'], prediction], axis=1)"
   ]
  },
  {
   "cell_type": "code",
   "execution_count": 52,
   "metadata": {
    "scrolled": true
   },
   "outputs": [
    {
     "data": {
      "text/html": [
       "<div>\n",
       "<style scoped>\n",
       "    .dataframe tbody tr th:only-of-type {\n",
       "        vertical-align: middle;\n",
       "    }\n",
       "\n",
       "    .dataframe tbody tr th {\n",
       "        vertical-align: top;\n",
       "    }\n",
       "\n",
       "    .dataframe thead th {\n",
       "        text-align: right;\n",
       "    }\n",
       "</style>\n",
       "<table border=\"1\" class=\"dataframe\">\n",
       "  <thead>\n",
       "    <tr style=\"text-align: right;\">\n",
       "      <th></th>\n",
       "      <th>author</th>\n",
       "      <th>target</th>\n",
       "    </tr>\n",
       "  </thead>\n",
       "  <tbody>\n",
       "    <tr>\n",
       "      <th>2630</th>\n",
       "      <td>Kaplan, David L.</td>\n",
       "      <td>411.286410</td>\n",
       "    </tr>\n",
       "    <tr>\n",
       "      <th>3026</th>\n",
       "      <td>Langer, Robert</td>\n",
       "      <td>176.465200</td>\n",
       "    </tr>\n",
       "    <tr>\n",
       "      <th>3691</th>\n",
       "      <td>Mano, Joao F.</td>\n",
       "      <td>156.463500</td>\n",
       "    </tr>\n",
       "    <tr>\n",
       "      <th>2692</th>\n",
       "      <td>Khademhosseini, Ali</td>\n",
       "      <td>130.569620</td>\n",
       "    </tr>\n",
       "    <tr>\n",
       "      <th>4752</th>\n",
       "      <td>Reis, Rui L.</td>\n",
       "      <td>126.070019</td>\n",
       "    </tr>\n",
       "    <tr>\n",
       "      <th>153</th>\n",
       "      <td>Anderson, Daniel G.</td>\n",
       "      <td>123.594609</td>\n",
       "    </tr>\n",
       "    <tr>\n",
       "      <th>3160</th>\n",
       "      <td>Lendlein, Andreas</td>\n",
       "      <td>100.866970</td>\n",
       "    </tr>\n",
       "    <tr>\n",
       "      <th>2466</th>\n",
       "      <td>Jansen, John A.</td>\n",
       "      <td>88.213052</td>\n",
       "    </tr>\n",
       "    <tr>\n",
       "      <th>4283</th>\n",
       "      <td>Omenetto, Fiorenzo G.</td>\n",
       "      <td>84.731567</td>\n",
       "    </tr>\n",
       "    <tr>\n",
       "      <th>5471</th>\n",
       "      <td>Stupp, Samuel I.</td>\n",
       "      <td>80.975925</td>\n",
       "    </tr>\n",
       "    <tr>\n",
       "      <th>977</th>\n",
       "      <td>Chu, Paul K.</td>\n",
       "      <td>78.540516</td>\n",
       "    </tr>\n",
       "    <tr>\n",
       "      <th>91</th>\n",
       "      <td>Alexander, Morgan R.</td>\n",
       "      <td>78.081108</td>\n",
       "    </tr>\n",
       "    <tr>\n",
       "      <th>608</th>\n",
       "      <td>Buehler, Markus J.</td>\n",
       "      <td>69.927188</td>\n",
       "    </tr>\n",
       "    <tr>\n",
       "      <th>477</th>\n",
       "      <td>Boccaccini, Aldo R.</td>\n",
       "      <td>66.953259</td>\n",
       "    </tr>\n",
       "    <tr>\n",
       "      <th>1161</th>\n",
       "      <td>Davies, Martyn C.</td>\n",
       "      <td>63.260664</td>\n",
       "    </tr>\n",
       "    <tr>\n",
       "      <th>3892</th>\n",
       "      <td>Mikos, Antonios G.</td>\n",
       "      <td>62.592153</td>\n",
       "    </tr>\n",
       "    <tr>\n",
       "      <th>6490</th>\n",
       "      <td>Yang, Jing</td>\n",
       "      <td>62.464558</td>\n",
       "    </tr>\n",
       "    <tr>\n",
       "      <th>2997</th>\n",
       "      <td>Lahann, Joerg</td>\n",
       "      <td>61.669204</td>\n",
       "    </tr>\n",
       "    <tr>\n",
       "      <th>2499</th>\n",
       "      <td>Jiang, Lei</td>\n",
       "      <td>61.468016</td>\n",
       "    </tr>\n",
       "    <tr>\n",
       "      <th>2863</th>\n",
       "      <td>Kohn, Joachim</td>\n",
       "      <td>61.292683</td>\n",
       "    </tr>\n",
       "    <tr>\n",
       "      <th>3824</th>\n",
       "      <td>Mei, Ying</td>\n",
       "      <td>59.359243</td>\n",
       "    </tr>\n",
       "    <tr>\n",
       "      <th>5851</th>\n",
       "      <td>Vallet-Regi, Maria</td>\n",
       "      <td>59.340130</td>\n",
       "    </tr>\n",
       "    <tr>\n",
       "      <th>1299</th>\n",
       "      <td>Donaldson, Laurie</td>\n",
       "      <td>58.705628</td>\n",
       "    </tr>\n",
       "    <tr>\n",
       "      <th>2311</th>\n",
       "      <td>Hu, Xiao</td>\n",
       "      <td>56.739221</td>\n",
       "    </tr>\n",
       "    <tr>\n",
       "      <th>2373</th>\n",
       "      <td>Hutmacher, Dietmar W.</td>\n",
       "      <td>53.390464</td>\n",
       "    </tr>\n",
       "    <tr>\n",
       "      <th>1385</th>\n",
       "      <td>Dvir, Tal</td>\n",
       "      <td>53.088143</td>\n",
       "    </tr>\n",
       "    <tr>\n",
       "      <th>2957</th>\n",
       "      <td>Kundu, Subhas C.</td>\n",
       "      <td>52.858945</td>\n",
       "    </tr>\n",
       "    <tr>\n",
       "      <th>7045</th>\n",
       "      <td>van der Mei, Henny C.</td>\n",
       "      <td>52.628974</td>\n",
       "    </tr>\n",
       "    <tr>\n",
       "      <th>3980</th>\n",
       "      <td>Mooney, David J.</td>\n",
       "      <td>49.995197</td>\n",
       "    </tr>\n",
       "    <tr>\n",
       "      <th>5453</th>\n",
       "      <td>Stevens, Molly M.</td>\n",
       "      <td>49.770568</td>\n",
       "    </tr>\n",
       "    <tr>\n",
       "      <th>...</th>\n",
       "      <td>...</td>\n",
       "      <td>...</td>\n",
       "    </tr>\n",
       "    <tr>\n",
       "      <th>483</th>\n",
       "      <td>Bodirlau, Ruxanda</td>\n",
       "      <td>4.077259</td>\n",
       "    </tr>\n",
       "    <tr>\n",
       "      <th>3647</th>\n",
       "      <td>Madduri, Srinivas</td>\n",
       "      <td>4.077259</td>\n",
       "    </tr>\n",
       "    <tr>\n",
       "      <th>6762</th>\n",
       "      <td>Zhang, Shifeng</td>\n",
       "      <td>4.077259</td>\n",
       "    </tr>\n",
       "    <tr>\n",
       "      <th>3750</th>\n",
       "      <td>Martinelli, Marisa</td>\n",
       "      <td>4.077259</td>\n",
       "    </tr>\n",
       "    <tr>\n",
       "      <th>645</th>\n",
       "      <td>Caldas Neto, Silvio da Silva</td>\n",
       "      <td>4.077259</td>\n",
       "    </tr>\n",
       "    <tr>\n",
       "      <th>5586</th>\n",
       "      <td>Takeuchi, Shoji</td>\n",
       "      <td>4.077259</td>\n",
       "    </tr>\n",
       "    <tr>\n",
       "      <th>1656</th>\n",
       "      <td>Fukushima, Kazuki</td>\n",
       "      <td>4.077259</td>\n",
       "    </tr>\n",
       "    <tr>\n",
       "      <th>3734</th>\n",
       "      <td>Marques, Aparecida M. C.</td>\n",
       "      <td>4.077259</td>\n",
       "    </tr>\n",
       "    <tr>\n",
       "      <th>2469</th>\n",
       "      <td>Jardini, Andre Luiz</td>\n",
       "      <td>4.077259</td>\n",
       "    </tr>\n",
       "    <tr>\n",
       "      <th>616</th>\n",
       "      <td>Burgkart, Rainer</td>\n",
       "      <td>4.077259</td>\n",
       "    </tr>\n",
       "    <tr>\n",
       "      <th>4931</th>\n",
       "      <td>Rychly, Joachim</td>\n",
       "      <td>4.077259</td>\n",
       "    </tr>\n",
       "    <tr>\n",
       "      <th>5780</th>\n",
       "      <td>Tsukamoto, Masahiro</td>\n",
       "      <td>4.077259</td>\n",
       "    </tr>\n",
       "    <tr>\n",
       "      <th>4437</th>\n",
       "      <td>Pegueroles, Marta</td>\n",
       "      <td>4.077259</td>\n",
       "    </tr>\n",
       "    <tr>\n",
       "      <th>4439</th>\n",
       "      <td>Peirce-Cottler, Shayn M.</td>\n",
       "      <td>4.077259</td>\n",
       "    </tr>\n",
       "    <tr>\n",
       "      <th>588</th>\n",
       "      <td>Brouillet, F.</td>\n",
       "      <td>4.077259</td>\n",
       "    </tr>\n",
       "    <tr>\n",
       "      <th>582</th>\n",
       "      <td>Bronkhorst, Ewald M.</td>\n",
       "      <td>4.077259</td>\n",
       "    </tr>\n",
       "    <tr>\n",
       "      <th>5321</th>\n",
       "      <td>Singh, Ramesh</td>\n",
       "      <td>4.077259</td>\n",
       "    </tr>\n",
       "    <tr>\n",
       "      <th>4923</th>\n",
       "      <td>Russell, Robert A.</td>\n",
       "      <td>4.077259</td>\n",
       "    </tr>\n",
       "    <tr>\n",
       "      <th>571</th>\n",
       "      <td>Brayman, Kenneth L.</td>\n",
       "      <td>4.077259</td>\n",
       "    </tr>\n",
       "    <tr>\n",
       "      <th>5917</th>\n",
       "      <td>Verin, Lucia</td>\n",
       "      <td>4.077259</td>\n",
       "    </tr>\n",
       "    <tr>\n",
       "      <th>1715</th>\n",
       "      <td>Gasik, Michael</td>\n",
       "      <td>4.077259</td>\n",
       "    </tr>\n",
       "    <tr>\n",
       "      <th>3686</th>\n",
       "      <td>Mangano, Francesco</td>\n",
       "      <td>4.077259</td>\n",
       "    </tr>\n",
       "    <tr>\n",
       "      <th>1754</th>\n",
       "      <td>Georgi, Nicole</td>\n",
       "      <td>4.077259</td>\n",
       "    </tr>\n",
       "    <tr>\n",
       "      <th>1795</th>\n",
       "      <td>Gil, Javier</td>\n",
       "      <td>4.077259</td>\n",
       "    </tr>\n",
       "    <tr>\n",
       "      <th>1798</th>\n",
       "      <td>Gilbert, R. J.</td>\n",
       "      <td>4.077259</td>\n",
       "    </tr>\n",
       "    <tr>\n",
       "      <th>3669</th>\n",
       "      <td>Makropoulou, M.</td>\n",
       "      <td>4.077259</td>\n",
       "    </tr>\n",
       "    <tr>\n",
       "      <th>1824</th>\n",
       "      <td>Gloriant, Thierry</td>\n",
       "      <td>4.077259</td>\n",
       "    </tr>\n",
       "    <tr>\n",
       "      <th>5667</th>\n",
       "      <td>Tettamanti, Lucia</td>\n",
       "      <td>4.077259</td>\n",
       "    </tr>\n",
       "    <tr>\n",
       "      <th>1828</th>\n",
       "      <td>Gobet, Rita</td>\n",
       "      <td>4.077259</td>\n",
       "    </tr>\n",
       "    <tr>\n",
       "      <th>4044</th>\n",
       "      <td>Mujahid, M.</td>\n",
       "      <td>4.077259</td>\n",
       "    </tr>\n",
       "  </tbody>\n",
       "</table>\n",
       "<p>7053 rows × 2 columns</p>\n",
       "</div>"
      ],
      "text/plain": [
       "                            author      target\n",
       "2630              Kaplan, David L.  411.286410\n",
       "3026                Langer, Robert  176.465200\n",
       "3691                 Mano, Joao F.  156.463500\n",
       "2692           Khademhosseini, Ali  130.569620\n",
       "4752                  Reis, Rui L.  126.070019\n",
       "153            Anderson, Daniel G.  123.594609\n",
       "3160             Lendlein, Andreas  100.866970\n",
       "2466               Jansen, John A.   88.213052\n",
       "4283         Omenetto, Fiorenzo G.   84.731567\n",
       "5471              Stupp, Samuel I.   80.975925\n",
       "977                   Chu, Paul K.   78.540516\n",
       "91            Alexander, Morgan R.   78.081108\n",
       "608             Buehler, Markus J.   69.927188\n",
       "477            Boccaccini, Aldo R.   66.953259\n",
       "1161             Davies, Martyn C.   63.260664\n",
       "3892            Mikos, Antonios G.   62.592153\n",
       "6490                    Yang, Jing   62.464558\n",
       "2997                 Lahann, Joerg   61.669204\n",
       "2499                    Jiang, Lei   61.468016\n",
       "2863                 Kohn, Joachim   61.292683\n",
       "3824                     Mei, Ying   59.359243\n",
       "5851            Vallet-Regi, Maria   59.340130\n",
       "1299             Donaldson, Laurie   58.705628\n",
       "2311                      Hu, Xiao   56.739221\n",
       "2373         Hutmacher, Dietmar W.   53.390464\n",
       "1385                     Dvir, Tal   53.088143\n",
       "2957              Kundu, Subhas C.   52.858945\n",
       "7045         van der Mei, Henny C.   52.628974\n",
       "3980              Mooney, David J.   49.995197\n",
       "5453             Stevens, Molly M.   49.770568\n",
       "...                            ...         ...\n",
       "483              Bodirlau, Ruxanda    4.077259\n",
       "3647             Madduri, Srinivas    4.077259\n",
       "6762                Zhang, Shifeng    4.077259\n",
       "3750            Martinelli, Marisa    4.077259\n",
       "645   Caldas Neto, Silvio da Silva    4.077259\n",
       "5586               Takeuchi, Shoji    4.077259\n",
       "1656             Fukushima, Kazuki    4.077259\n",
       "3734      Marques, Aparecida M. C.    4.077259\n",
       "2469           Jardini, Andre Luiz    4.077259\n",
       "616               Burgkart, Rainer    4.077259\n",
       "4931               Rychly, Joachim    4.077259\n",
       "5780           Tsukamoto, Masahiro    4.077259\n",
       "4437             Pegueroles, Marta    4.077259\n",
       "4439      Peirce-Cottler, Shayn M.    4.077259\n",
       "588                  Brouillet, F.    4.077259\n",
       "582           Bronkhorst, Ewald M.    4.077259\n",
       "5321                 Singh, Ramesh    4.077259\n",
       "4923            Russell, Robert A.    4.077259\n",
       "571            Brayman, Kenneth L.    4.077259\n",
       "5917                  Verin, Lucia    4.077259\n",
       "1715                Gasik, Michael    4.077259\n",
       "3686            Mangano, Francesco    4.077259\n",
       "1754                Georgi, Nicole    4.077259\n",
       "1795                   Gil, Javier    4.077259\n",
       "1798                Gilbert, R. J.    4.077259\n",
       "3669               Makropoulou, M.    4.077259\n",
       "1824             Gloriant, Thierry    4.077259\n",
       "5667             Tettamanti, Lucia    4.077259\n",
       "1828                   Gobet, Rita    4.077259\n",
       "4044                   Mujahid, M.    4.077259\n",
       "\n",
       "[7053 rows x 2 columns]"
      ]
     },
     "execution_count": 52,
     "metadata": {},
     "output_type": "execute_result"
    }
   ],
   "source": [
    "result.sort_values(by='target', ascending=False)"
   ]
  },
  {
   "cell_type": "code",
   "execution_count": 53,
   "metadata": {
    "scrolled": true
   },
   "outputs": [
    {
     "data": {
      "text/html": [
       "<div>\n",
       "<style scoped>\n",
       "    .dataframe tbody tr th:only-of-type {\n",
       "        vertical-align: middle;\n",
       "    }\n",
       "\n",
       "    .dataframe tbody tr th {\n",
       "        vertical-align: top;\n",
       "    }\n",
       "\n",
       "    .dataframe thead th {\n",
       "        text-align: right;\n",
       "    }\n",
       "</style>\n",
       "<table border=\"1\" class=\"dataframe\">\n",
       "  <thead>\n",
       "    <tr style=\"text-align: right;\">\n",
       "      <th></th>\n",
       "      <th>author</th>\n",
       "      <th>target</th>\n",
       "    </tr>\n",
       "  </thead>\n",
       "  <tbody>\n",
       "    <tr>\n",
       "      <th>2630</th>\n",
       "      <td>Kaplan, David L.</td>\n",
       "      <td>571.996</td>\n",
       "    </tr>\n",
       "    <tr>\n",
       "      <th>3691</th>\n",
       "      <td>Mano, Joao F.</td>\n",
       "      <td>217.383</td>\n",
       "    </tr>\n",
       "    <tr>\n",
       "      <th>4752</th>\n",
       "      <td>Reis, Rui L.</td>\n",
       "      <td>207.305</td>\n",
       "    </tr>\n",
       "    <tr>\n",
       "      <th>3980</th>\n",
       "      <td>Mooney, David J.</td>\n",
       "      <td>205.787</td>\n",
       "    </tr>\n",
       "    <tr>\n",
       "      <th>2692</th>\n",
       "      <td>Khademhosseini, Ali</td>\n",
       "      <td>159.656</td>\n",
       "    </tr>\n",
       "    <tr>\n",
       "      <th>977</th>\n",
       "      <td>Chu, Paul K.</td>\n",
       "      <td>153.251</td>\n",
       "    </tr>\n",
       "    <tr>\n",
       "      <th>3160</th>\n",
       "      <td>Lendlein, Andreas</td>\n",
       "      <td>146.743</td>\n",
       "    </tr>\n",
       "    <tr>\n",
       "      <th>611</th>\n",
       "      <td>Burdick, Jason A.</td>\n",
       "      <td>143.670</td>\n",
       "    </tr>\n",
       "    <tr>\n",
       "      <th>4283</th>\n",
       "      <td>Omenetto, Fiorenzo G.</td>\n",
       "      <td>142.305</td>\n",
       "    </tr>\n",
       "    <tr>\n",
       "      <th>3026</th>\n",
       "      <td>Langer, Robert</td>\n",
       "      <td>135.356</td>\n",
       "    </tr>\n",
       "  </tbody>\n",
       "</table>\n",
       "</div>"
      ],
      "text/plain": [
       "                     author   target\n",
       "2630       Kaplan, David L.  571.996\n",
       "3691          Mano, Joao F.  217.383\n",
       "4752           Reis, Rui L.  207.305\n",
       "3980       Mooney, David J.  205.787\n",
       "2692    Khademhosseini, Ali  159.656\n",
       "977            Chu, Paul K.  153.251\n",
       "3160      Lendlein, Andreas  146.743\n",
       "611       Burdick, Jason A.  143.670\n",
       "4283  Omenetto, Fiorenzo G.  142.305\n",
       "3026         Langer, Robert  135.356"
      ]
     },
     "execution_count": 53,
     "metadata": {},
     "output_type": "execute_result"
    }
   ],
   "source": [
    "df[['author','target']].sort_values(by='target',ascending=False).head(10)"
   ]
  },
  {
   "cell_type": "code",
   "execution_count": 55,
   "metadata": {},
   "outputs": [
    {
     "data": {
      "text/plain": [
       "RandomForestRegressor(bootstrap=True, criterion='mse', max_depth=None,\n",
       "           max_features='auto', max_leaf_nodes=None,\n",
       "           min_impurity_decrease=0.0, min_impurity_split=None,\n",
       "           min_samples_leaf=1, min_samples_split=2,\n",
       "           min_weight_fraction_leaf=0.0, n_estimators=20, n_jobs=1,\n",
       "           oob_score=False, random_state=0, verbose=0, warm_start=False)"
      ]
     },
     "execution_count": 55,
     "metadata": {},
     "output_type": "execute_result"
    }
   ],
   "source": [
    "rf = RandomForestRegressor(n_estimators=20, random_state=0)  \n",
    "rf.fit(X_train, y_train)  \n",
    "#y_pred = regressor.predict(X_test)  "
   ]
  },
  {
   "cell_type": "code",
   "execution_count": 56,
   "metadata": {},
   "outputs": [
    {
     "data": {
      "image/png": "[encoded data removed]",
      "text/plain": [
       "<Figure size 432x288 with 1 Axes>"
      ]
     },
     "metadata": {},
     "output_type": "display_data"
    },
    {
     "data": {
      "image/png": "[encoded data removed]",
      "text/plain": [
       "<Figure size 432x288 with 1 Axes>"
      ]
     },
     "metadata": {},
     "output_type": "display_data"
    }
   ],
   "source": [
    "y_train_rf = rf.predict(X_train)\n",
    "y_test_rf = rf.predict(X_test)\n",
    "\n",
    "# Plot residuals\n",
    "plt.scatter(y_train_rf, y_train_rf - y_train, c = \"blue\", marker = \"s\", label = \"Training data\")\n",
    "plt.scatter(y_test_rf, y_test_rf - y_test, c = \"lightgreen\", marker = \"s\", label = \"Validation data\")\n",
    "plt.title(\"Random Forest Regression\");\n",
    "plt.xlabel(\"Predicted values\");\n",
    "plt.ylabel(\"Residuals\");\n",
    "plt.legend(loc = \"upper left\");\n",
    "plt.hlines(y = 0, xmin = 10.5, xmax = 135, color = \"red\");\n",
    "plt.show();\n",
    "\n",
    "# Plot predictions\n",
    "plt.scatter(y_train, y_train_rf,s=10, c = \"blue\", marker = \"o\", label = \"Training data\")\n",
    "plt.scatter(y_test, y_test_rf,s=10, c = \"lightgreen\", marker = \"o\", label = \"Validation data\")\n",
    "plt.title(\"Random Forest Regression\");\n",
    "plt.xlabel(\"Predicted values\");\n",
    "plt.ylabel(\"Real values\");\n",
    "plt.legend(loc = \"upper left\");\n",
    "plt.plot([10.5, 135], [10.5, 135], c = \"red\");\n",
    "plt.show();"
   ]
  },
  {
   "cell_type": "code",
   "execution_count": 57,
   "metadata": {},
   "outputs": [
    {
     "name": "stdout",
     "output_type": "stream",
     "text": [
      "ElasticNet RMSE on Training set : 11.930019737059084\n",
      "ElasticNet RMSE on Test set : 12.935914821371972\n"
     ]
    }
   ],
   "source": [
    "print(\"ElasticNet RMSE on Training set :\", rmse_cv_train(rf).mean())\n",
    "print(\"ElasticNet RMSE on Test set :\", rmse_cv_test(rf).mean())"
   ]
  },
  {
   "cell_type": "code",
   "execution_count": 58,
   "metadata": {},
   "outputs": [],
   "source": [
    "y_te_pred_rf = rf.predict(x)\n",
    "prediction_rf = pd.DataFrame(y_te_pred_rf, columns=['target'])\n",
    "result_rf = pd.concat([df['author'], prediction_rf], axis=1).sort_values(by='target',ascending=False)"
   ]
  },
  {
   "cell_type": "code",
   "execution_count": 59,
   "metadata": {},
   "outputs": [
    {
     "data": {
      "text/html": [
       "<div>\n",
       "<style scoped>\n",
       "    .dataframe tbody tr th:only-of-type {\n",
       "        vertical-align: middle;\n",
       "    }\n",
       "\n",
       "    .dataframe tbody tr th {\n",
       "        vertical-align: top;\n",
       "    }\n",
       "\n",
       "    .dataframe thead th {\n",
       "        text-align: right;\n",
       "    }\n",
       "</style>\n",
       "<table border=\"1\" class=\"dataframe\">\n",
       "  <thead>\n",
       "    <tr style=\"text-align: right;\">\n",
       "      <th></th>\n",
       "      <th>author</th>\n",
       "      <th>target</th>\n",
       "    </tr>\n",
       "  </thead>\n",
       "  <tbody>\n",
       "    <tr>\n",
       "      <th>3691</th>\n",
       "      <td>Mano, Joao F.</td>\n",
       "      <td>163.64930</td>\n",
       "    </tr>\n",
       "    <tr>\n",
       "      <th>4752</th>\n",
       "      <td>Reis, Rui L.</td>\n",
       "      <td>161.30215</td>\n",
       "    </tr>\n",
       "    <tr>\n",
       "      <th>2630</th>\n",
       "      <td>Kaplan, David L.</td>\n",
       "      <td>155.91785</td>\n",
       "    </tr>\n",
       "    <tr>\n",
       "      <th>2692</th>\n",
       "      <td>Khademhosseini, Ali</td>\n",
       "      <td>147.54445</td>\n",
       "    </tr>\n",
       "    <tr>\n",
       "      <th>3980</th>\n",
       "      <td>Mooney, David J.</td>\n",
       "      <td>142.50565</td>\n",
       "    </tr>\n",
       "    <tr>\n",
       "      <th>4283</th>\n",
       "      <td>Omenetto, Fiorenzo G.</td>\n",
       "      <td>140.69760</td>\n",
       "    </tr>\n",
       "    <tr>\n",
       "      <th>3026</th>\n",
       "      <td>Langer, Robert</td>\n",
       "      <td>135.96275</td>\n",
       "    </tr>\n",
       "    <tr>\n",
       "      <th>153</th>\n",
       "      <td>Anderson, Daniel G.</td>\n",
       "      <td>134.14440</td>\n",
       "    </tr>\n",
       "    <tr>\n",
       "      <th>611</th>\n",
       "      <td>Burdick, Jason A.</td>\n",
       "      <td>124.03080</td>\n",
       "    </tr>\n",
       "    <tr>\n",
       "      <th>3160</th>\n",
       "      <td>Lendlein, Andreas</td>\n",
       "      <td>120.92630</td>\n",
       "    </tr>\n",
       "  </tbody>\n",
       "</table>\n",
       "</div>"
      ],
      "text/plain": [
       "                     author     target\n",
       "3691          Mano, Joao F.  163.64930\n",
       "4752           Reis, Rui L.  161.30215\n",
       "2630       Kaplan, David L.  155.91785\n",
       "2692    Khademhosseini, Ali  147.54445\n",
       "3980       Mooney, David J.  142.50565\n",
       "4283  Omenetto, Fiorenzo G.  140.69760\n",
       "3026         Langer, Robert  135.96275\n",
       "153     Anderson, Daniel G.  134.14440\n",
       "611       Burdick, Jason A.  124.03080\n",
       "3160      Lendlein, Andreas  120.92630"
      ]
     },
     "execution_count": 59,
     "metadata": {},
     "output_type": "execute_result"
    }
   ],
   "source": [
    "result_rf.head(10)"
   ]
  },
  {
   "cell_type": "code",
   "execution_count": 60,
   "metadata": {},
   "outputs": [],
   "source": [
    "feature_importances = pd.DataFrame(rf.feature_importances_,\n",
    "                                   index = X_train.columns,\n",
    "                                    columns=['importance']).sort_values('importance',                                                                 \n",
    "                                                                        ascending=True)"
   ]
  },
  {
   "cell_type": "code",
   "execution_count": 61,
   "metadata": {},
   "outputs": [
    {
     "data": {
      "image/png": "[encoded data removed]",
      "text/plain": [
       "<Figure size 1080x720 with 1 Axes>"
      ]
     },
     "metadata": {},
     "output_type": "display_data"
    }
   ],
   "source": [
    "plt.rcParams[\"figure.figsize\"] = (15,10)\n",
    "feature_importances.plot(kind = \"barh\");\n",
    "\n",
    "plt.title(\"Features Importance in the Random Forest Model\");\n",
    "\n",
    "plt.show();"
   ]
  },
  {
   "cell_type": "code",
   "execution_count": 62,
   "metadata": {},
   "outputs": [],
   "source": [
    "errordf=pd.DataFrame(columns=['train','test'])"
   ]
  },
  {
   "cell_type": "code",
   "execution_count": 63,
   "metadata": {},
   "outputs": [],
   "source": [
    "for i in [lr, ridge, lasso, elasticNet, rf]:\n",
    "    errordf = errordf.append(pd.DataFrame([[rmse_cv_train(i).mean(),rmse_cv_test(i).mean()]],index=['i'],columns=errordf.columns))\n",
    "    "
   ]
  },
  {
   "cell_type": "code",
   "execution_count": 65,
   "metadata": {},
   "outputs": [
    {
     "data": {
      "image/png": "[encoded data removed]",
      "text/plain": [
       "<Figure size 1080x720 with 1 Axes>"
      ]
     },
     "metadata": {},
     "output_type": "display_data"
    }
   ],
   "source": [
    "\n",
    "errordf.plot.bar(rot=0);\n",
    "plt.ylim(8,14);\n",
    "plt.title(\"RMSE\");"
   ]
  },
  {
   "cell_type": "code",
   "execution_count": null,
   "metadata": {},
   "outputs": [],
   "source": []
  }
 ],
 "metadata": {
  "kernelspec": {
   "display_name": "Python 3",
   "language": "python",
   "name": "python3"
  },
  "language_info": {
   "codemirror_mode": {
    "name": "ipython",
    "version": 3
   },
   "file_extension": ".py",
   "mimetype": "text/x-python",
   "name": "python",
   "nbconvert_exporter": "python",
   "pygments_lexer": "ipython3",
   "version": "3.6.4"
  },
  "toc": {
   "nav_menu": {},
   "number_sections": false,
   "sideBar": true,
   "skip_h1_title": false,
   "title_cell": "Table of Contents",
   "title_sidebar": "Contents",
   "toc_cell": false,
   "toc_position": {},
   "toc_section_display": true,
   "toc_window_display": false
  }
 },
 "nbformat": 4,
 "nbformat_minor": 2
}
